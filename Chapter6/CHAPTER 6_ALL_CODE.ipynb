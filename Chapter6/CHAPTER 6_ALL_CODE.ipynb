{
 "cells": [
  {
   "cell_type": "markdown",
   "metadata": {},
   "source": [
    "# CHAPTER 6 Unsupervised Machine Learning Algorithms\n",
    "@copyright Imran Ahmad\n",
    "\n",
    "# 1 -K-means Algorithm\n",
    "## STEP 1- Import packages\n",
    "First, let us import the packages that we will need to code for K-means algorithm."
   ]
  },
  {
   "cell_type": "code",
   "execution_count": 1,
   "metadata": {},
   "outputs": [],
   "source": [
    "from sklearn import cluster\n",
    "import pandas as pd\n",
    "import numpy as np"
   ]
  },
  {
   "cell_type": "markdown",
   "metadata": {},
   "source": [
    "## STEP 2- Data\n",
    "To use K-means clustering, first let us create 20 data-points in two dimensional problem space that we will be using for K-means clustering."
   ]
  },
  {
   "cell_type": "code",
   "execution_count": 2,
   "metadata": {},
   "outputs": [],
   "source": [
    "\n",
    "dataset = pd.DataFrame({\n",
    "    'x': [11, 11, 20, 12, 16, 33, 24, 14, 45, 52, 51, 52, 55, 53, 55, 61, 62, 70, 72, 10],\n",
    "    'y': [39, 36, 30, 52, 53, 46, 55, 59, 12, 15, 16, 18, 11, 23, 14, 8, 18, 7, 24, 70]\n",
    "})"
   ]
  },
  {
   "cell_type": "markdown",
   "metadata": {},
   "source": [
    "## STEP 3-  Training the Model\n",
    "We will be using the sklearn package implementation of K-means clustering. Let us choose number of clusters, k =2"
   ]
  },
  {
   "cell_type": "code",
   "execution_count": 3,
   "metadata": {},
   "outputs": [
    {
     "data": {
      "text/plain": [
       "KMeans(algorithm='auto', copy_x=True, init='k-means++', max_iter=300,\n",
       "       n_clusters=2, n_init=10, n_jobs=None, precompute_distances='auto',\n",
       "       random_state=None, tol=0.0001, verbose=0)"
      ]
     },
     "execution_count": 3,
     "metadata": {},
     "output_type": "execute_result"
    }
   ],
   "source": [
    "myKmeans = cluster.KMeans(n_clusters=2)\n",
    "myKmeans.fit(dataset)"
   ]
  },
  {
   "cell_type": "markdown",
   "metadata": {},
   "source": [
    "## STEP 4- Printing labels and cluster centers\n",
    "Let us now look into the labels and the cluster centers"
   ]
  },
  {
   "cell_type": "code",
   "execution_count": 4,
   "metadata": {},
   "outputs": [],
   "source": [
    "labels = myKmeans.labels_\n",
    "centers = myKmeans.cluster_centers_"
   ]
  },
  {
   "cell_type": "code",
   "execution_count": 5,
   "metadata": {},
   "outputs": [
    {
     "name": "stdout",
     "output_type": "stream",
     "text": [
      "[1 1 1 1 1 1 1 1 0 0 0 0 0 0 0 0 0 0 0 1]\n"
     ]
    }
   ],
   "source": [
    "print(labels)"
   ]
  },
  {
   "cell_type": "code",
   "execution_count": 6,
   "metadata": {},
   "outputs": [
    {
     "name": "stdout",
     "output_type": "stream",
     "text": [
      "[[57.09090909 15.09090909]\n",
      " [16.77777778 48.88888889]]\n"
     ]
    }
   ],
   "source": [
    "print(centers)"
   ]
  },
  {
   "cell_type": "markdown",
   "metadata": {},
   "source": [
    "## STEP 5-  Plot\n",
    "Using matplotlib let us draw the datapoints and the cluster centers"
   ]
  },
  {
   "cell_type": "code",
   "execution_count": 7,
   "metadata": {
    "scrolled": true
   },
   "outputs": [
    {
     "data": {
      "image/png": "[encoded data removed]",
      "text/plain": [
       "<Figure size 432x288 with 1 Axes>"
      ]
     },
     "metadata": {
      "needs_background": "light"
     },
     "output_type": "display_data"
    }
   ],
   "source": [
    "import matplotlib.pyplot as plt\n",
    "plt.scatter(dataset['x'],dataset['y'], s=10)\n",
    "plt.scatter(centers[0],centers[1],s=100)\n",
    "plt.show()"
   ]
  },
  {
   "cell_type": "markdown",
   "metadata": {},
   "source": [
    "# 2 Hierarchical Algorithm"
   ]
  },
  {
   "cell_type": "markdown",
   "metadata": {},
   "source": [
    "## STEP 1: Import Packages"
   ]
  },
  {
   "cell_type": "code",
   "execution_count": 8,
   "metadata": {},
   "outputs": [],
   "source": [
    "from sklearn.cluster import AgglomerativeClustering\n",
    "import pandas as pd\n",
    "import numpy as np"
   ]
  },
  {
   "cell_type": "markdown",
   "metadata": {},
   "source": [
    "## STEP 2: Create Dataframe"
   ]
  },
  {
   "cell_type": "code",
   "execution_count": 9,
   "metadata": {},
   "outputs": [],
   "source": [
    "dataset = pd.DataFrame({\n",
    "    'x': [11, 11, 20, 12, 16, 33, 24, 14, 45, 52, 51, 52, 55, 53, 55, 61, 62, 70, 72, 10],\n",
    "    'y': [39, 36, 30, 52, 53, 46, 55, 59, 12, 15, 16, 18, 11, 23, 14, 8, 18, 7, 24, 70]\n",
    "})"
   ]
  },
  {
   "cell_type": "markdown",
   "metadata": {},
   "source": [
    "## STEP 3: Create Clusters"
   ]
  },
  {
   "cell_type": "code",
   "execution_count": 10,
   "metadata": {},
   "outputs": [
    {
     "data": {
      "text/plain": [
       "array([0, 0, 0, 0, 0, 0, 0, 0, 1, 1, 1, 1, 1, 1, 1, 1, 1, 1, 1, 0])"
      ]
     },
     "execution_count": 10,
     "metadata": {},
     "output_type": "execute_result"
    }
   ],
   "source": [
    "cluster = AgglomerativeClustering(n_clusters=2, affinity='euclidean', linkage='ward')  \n",
    "cluster.fit_predict(dataset)"
   ]
  },
  {
   "cell_type": "markdown",
   "metadata": {},
   "source": [
    "## STEP 4: Print Clusters"
   ]
  },
  {
   "cell_type": "code",
   "execution_count": 11,
   "metadata": {},
   "outputs": [
    {
     "name": "stdout",
     "output_type": "stream",
     "text": [
      "[0 0 0 0 0 0 0 0 1 1 1 1 1 1 1 1 1 1 1 0]\n"
     ]
    }
   ],
   "source": [
    "print(cluster.labels_)  "
   ]
  },
  {
   "cell_type": "markdown",
   "metadata": {},
   "source": [
    "# 3 PCA"
   ]
  },
  {
   "cell_type": "code",
   "execution_count": 12,
   "metadata": {},
   "outputs": [
    {
     "data": {
      "text/html": [
       "<div>\n",
       "<style scoped>\n",
       "    .dataframe tbody tr th:only-of-type {\n",
       "        vertical-align: middle;\n",
       "    }\n",
       "\n",
       "    .dataframe tbody tr th {\n",
       "        vertical-align: top;\n",
       "    }\n",
       "\n",
       "    .dataframe thead th {\n",
       "        text-align: right;\n",
       "    }\n",
       "</style>\n",
       "<table border=\"1\" class=\"dataframe\">\n",
       "  <thead>\n",
       "    <tr style=\"text-align: right;\">\n",
       "      <th></th>\n",
       "      <th>Sepal.Length</th>\n",
       "      <th>Sepal.Width</th>\n",
       "      <th>Petal.Length</th>\n",
       "      <th>Petal.Width</th>\n",
       "      <th>Species</th>\n",
       "    </tr>\n",
       "  </thead>\n",
       "  <tbody>\n",
       "    <tr>\n",
       "      <th>0</th>\n",
       "      <td>5.1</td>\n",
       "      <td>3.5</td>\n",
       "      <td>1.4</td>\n",
       "      <td>0.2</td>\n",
       "      <td>setosa</td>\n",
       "    </tr>\n",
       "    <tr>\n",
       "      <th>1</th>\n",
       "      <td>4.9</td>\n",
       "      <td>3.0</td>\n",
       "      <td>1.4</td>\n",
       "      <td>0.2</td>\n",
       "      <td>setosa</td>\n",
       "    </tr>\n",
       "    <tr>\n",
       "      <th>2</th>\n",
       "      <td>4.7</td>\n",
       "      <td>3.2</td>\n",
       "      <td>1.3</td>\n",
       "      <td>0.2</td>\n",
       "      <td>setosa</td>\n",
       "    </tr>\n",
       "    <tr>\n",
       "      <th>3</th>\n",
       "      <td>4.6</td>\n",
       "      <td>3.1</td>\n",
       "      <td>1.5</td>\n",
       "      <td>0.2</td>\n",
       "      <td>setosa</td>\n",
       "    </tr>\n",
       "    <tr>\n",
       "      <th>4</th>\n",
       "      <td>5.0</td>\n",
       "      <td>3.6</td>\n",
       "      <td>1.4</td>\n",
       "      <td>0.2</td>\n",
       "      <td>setosa</td>\n",
       "    </tr>\n",
       "    <tr>\n",
       "      <th>...</th>\n",
       "      <td>...</td>\n",
       "      <td>...</td>\n",
       "      <td>...</td>\n",
       "      <td>...</td>\n",
       "      <td>...</td>\n",
       "    </tr>\n",
       "    <tr>\n",
       "      <th>145</th>\n",
       "      <td>6.7</td>\n",
       "      <td>3.0</td>\n",
       "      <td>5.2</td>\n",
       "      <td>2.3</td>\n",
       "      <td>virginica</td>\n",
       "    </tr>\n",
       "    <tr>\n",
       "      <th>146</th>\n",
       "      <td>6.3</td>\n",
       "      <td>2.5</td>\n",
       "      <td>5.0</td>\n",
       "      <td>1.9</td>\n",
       "      <td>virginica</td>\n",
       "    </tr>\n",
       "    <tr>\n",
       "      <th>147</th>\n",
       "      <td>6.5</td>\n",
       "      <td>3.0</td>\n",
       "      <td>5.2</td>\n",
       "      <td>2.0</td>\n",
       "      <td>virginica</td>\n",
       "    </tr>\n",
       "    <tr>\n",
       "      <th>148</th>\n",
       "      <td>6.2</td>\n",
       "      <td>3.4</td>\n",
       "      <td>5.4</td>\n",
       "      <td>2.3</td>\n",
       "      <td>virginica</td>\n",
       "    </tr>\n",
       "    <tr>\n",
       "      <th>149</th>\n",
       "      <td>5.9</td>\n",
       "      <td>3.0</td>\n",
       "      <td>5.1</td>\n",
       "      <td>1.8</td>\n",
       "      <td>virginica</td>\n",
       "    </tr>\n",
       "  </tbody>\n",
       "</table>\n",
       "<p>150 rows × 5 columns</p>\n",
       "</div>"
      ],
      "text/plain": [
       "     Sepal.Length  Sepal.Width  Petal.Length  Petal.Width    Species\n",
       "0             5.1          3.5           1.4          0.2     setosa\n",
       "1             4.9          3.0           1.4          0.2     setosa\n",
       "2             4.7          3.2           1.3          0.2     setosa\n",
       "3             4.6          3.1           1.5          0.2     setosa\n",
       "4             5.0          3.6           1.4          0.2     setosa\n",
       "..            ...          ...           ...          ...        ...\n",
       "145           6.7          3.0           5.2          2.3  virginica\n",
       "146           6.3          2.5           5.0          1.9  virginica\n",
       "147           6.5          3.0           5.2          2.0  virginica\n",
       "148           6.2          3.4           5.4          2.3  virginica\n",
       "149           5.9          3.0           5.1          1.8  virginica\n",
       "\n",
       "[150 rows x 5 columns]"
      ]
     },
     "execution_count": 12,
     "metadata": {},
     "output_type": "execute_result"
    }
   ],
   "source": [
    "from sklearn.decomposition import PCA\n",
    "iris = pd.read_csv('iris.csv')\n",
    "iris"
   ]
  },
  {
   "cell_type": "code",
   "execution_count": 13,
   "metadata": {},
   "outputs": [
    {
     "data": {
      "text/plain": [
       "PCA(copy=True, iterated_power='auto', n_components=4, random_state=None,\n",
       "    svd_solver='auto', tol=0.0, whiten=False)"
      ]
     },
     "execution_count": 13,
     "metadata": {},
     "output_type": "execute_result"
    }
   ],
   "source": [
    "X = iris.drop('Species', axis=1)\n",
    "pca = PCA(n_components=4)\n",
    "pca.fit(X)\n"
   ]
  },
  {
   "cell_type": "code",
   "execution_count": 14,
   "metadata": {},
   "outputs": [
    {
     "data": {
      "text/html": [
       "<div>\n",
       "<style scoped>\n",
       "    .dataframe tbody tr th:only-of-type {\n",
       "        vertical-align: middle;\n",
       "    }\n",
       "\n",
       "    .dataframe tbody tr th {\n",
       "        vertical-align: top;\n",
       "    }\n",
       "\n",
       "    .dataframe thead th {\n",
       "        text-align: right;\n",
       "    }\n",
       "</style>\n",
       "<table border=\"1\" class=\"dataframe\">\n",
       "  <thead>\n",
       "    <tr style=\"text-align: right;\">\n",
       "      <th></th>\n",
       "      <th>Sepal.Length</th>\n",
       "      <th>Sepal.Width</th>\n",
       "      <th>Petal.Length</th>\n",
       "      <th>Petal.Width</th>\n",
       "    </tr>\n",
       "  </thead>\n",
       "  <tbody>\n",
       "    <tr>\n",
       "      <th>0</th>\n",
       "      <td>0.361387</td>\n",
       "      <td>-0.084523</td>\n",
       "      <td>0.856671</td>\n",
       "      <td>0.358289</td>\n",
       "    </tr>\n",
       "    <tr>\n",
       "      <th>1</th>\n",
       "      <td>0.656589</td>\n",
       "      <td>0.730161</td>\n",
       "      <td>-0.173373</td>\n",
       "      <td>-0.075481</td>\n",
       "    </tr>\n",
       "    <tr>\n",
       "      <th>2</th>\n",
       "      <td>-0.582030</td>\n",
       "      <td>0.597911</td>\n",
       "      <td>0.076236</td>\n",
       "      <td>0.545831</td>\n",
       "    </tr>\n",
       "    <tr>\n",
       "      <th>3</th>\n",
       "      <td>-0.315487</td>\n",
       "      <td>0.319723</td>\n",
       "      <td>0.479839</td>\n",
       "      <td>-0.753657</td>\n",
       "    </tr>\n",
       "  </tbody>\n",
       "</table>\n",
       "</div>"
      ],
      "text/plain": [
       "   Sepal.Length  Sepal.Width  Petal.Length  Petal.Width\n",
       "0      0.361387    -0.084523      0.856671     0.358289\n",
       "1      0.656589     0.730161     -0.173373    -0.075481\n",
       "2     -0.582030     0.597911      0.076236     0.545831\n",
       "3     -0.315487     0.319723      0.479839    -0.753657"
      ]
     },
     "execution_count": 14,
     "metadata": {},
     "output_type": "execute_result"
    }
   ],
   "source": [
    "pca_df=(pd.DataFrame(pca.components_,columns=X.columns))\n",
    "pca_df"
   ]
  },
  {
   "cell_type": "code",
   "execution_count": 15,
   "metadata": {},
   "outputs": [
    {
     "name": "stdout",
     "output_type": "stream",
     "text": [
      "[0.92461872 0.05306648 0.01710261 0.00521218]\n"
     ]
    }
   ],
   "source": [
    "print(pca.explained_variance_ratio_)"
   ]
  },
  {
   "cell_type": "code",
   "execution_count": 16,
   "metadata": {},
   "outputs": [
    {
     "data": {
      "text/html": [
       "<div>\n",
       "<style scoped>\n",
       "    .dataframe tbody tr th:only-of-type {\n",
       "        vertical-align: middle;\n",
       "    }\n",
       "\n",
       "    .dataframe tbody tr th {\n",
       "        vertical-align: top;\n",
       "    }\n",
       "\n",
       "    .dataframe thead th {\n",
       "        text-align: right;\n",
       "    }\n",
       "</style>\n",
       "<table border=\"1\" class=\"dataframe\">\n",
       "  <thead>\n",
       "    <tr style=\"text-align: right;\">\n",
       "      <th></th>\n",
       "      <th>Sepal.Length</th>\n",
       "      <th>Sepal.Width</th>\n",
       "      <th>Petal.Length</th>\n",
       "      <th>Petal.Width</th>\n",
       "      <th>PC1</th>\n",
       "      <th>PC2</th>\n",
       "      <th>PC3</th>\n",
       "      <th>PC4</th>\n",
       "    </tr>\n",
       "  </thead>\n",
       "  <tbody>\n",
       "    <tr>\n",
       "      <th>0</th>\n",
       "      <td>5.1</td>\n",
       "      <td>3.5</td>\n",
       "      <td>1.4</td>\n",
       "      <td>0.2</td>\n",
       "      <td>2.818240</td>\n",
       "      <td>5.646350</td>\n",
       "      <td>-0.659768</td>\n",
       "      <td>0.031089</td>\n",
       "    </tr>\n",
       "    <tr>\n",
       "      <th>1</th>\n",
       "      <td>4.9</td>\n",
       "      <td>3.0</td>\n",
       "      <td>1.4</td>\n",
       "      <td>0.2</td>\n",
       "      <td>2.788223</td>\n",
       "      <td>5.149951</td>\n",
       "      <td>-0.842317</td>\n",
       "      <td>-0.065675</td>\n",
       "    </tr>\n",
       "    <tr>\n",
       "      <th>2</th>\n",
       "      <td>4.7</td>\n",
       "      <td>3.2</td>\n",
       "      <td>1.3</td>\n",
       "      <td>0.2</td>\n",
       "      <td>2.613375</td>\n",
       "      <td>5.182003</td>\n",
       "      <td>-0.613952</td>\n",
       "      <td>0.013383</td>\n",
       "    </tr>\n",
       "    <tr>\n",
       "      <th>3</th>\n",
       "      <td>4.6</td>\n",
       "      <td>3.1</td>\n",
       "      <td>1.5</td>\n",
       "      <td>0.2</td>\n",
       "      <td>2.757022</td>\n",
       "      <td>5.008654</td>\n",
       "      <td>-0.600293</td>\n",
       "      <td>0.108928</td>\n",
       "    </tr>\n",
       "    <tr>\n",
       "      <th>4</th>\n",
       "      <td>5.0</td>\n",
       "      <td>3.6</td>\n",
       "      <td>1.4</td>\n",
       "      <td>0.2</td>\n",
       "      <td>2.773649</td>\n",
       "      <td>5.653707</td>\n",
       "      <td>-0.541773</td>\n",
       "      <td>0.094610</td>\n",
       "    </tr>\n",
       "    <tr>\n",
       "      <th>...</th>\n",
       "      <td>...</td>\n",
       "      <td>...</td>\n",
       "      <td>...</td>\n",
       "      <td>...</td>\n",
       "      <td>...</td>\n",
       "      <td>...</td>\n",
       "      <td>...</td>\n",
       "      <td>...</td>\n",
       "    </tr>\n",
       "    <tr>\n",
       "      <th>145</th>\n",
       "      <td>6.7</td>\n",
       "      <td>3.0</td>\n",
       "      <td>5.2</td>\n",
       "      <td>2.3</td>\n",
       "      <td>7.446475</td>\n",
       "      <td>5.514485</td>\n",
       "      <td>-0.454028</td>\n",
       "      <td>-0.392844</td>\n",
       "    </tr>\n",
       "    <tr>\n",
       "      <th>146</th>\n",
       "      <td>6.3</td>\n",
       "      <td>2.5</td>\n",
       "      <td>5.0</td>\n",
       "      <td>1.9</td>\n",
       "      <td>7.029532</td>\n",
       "      <td>4.951636</td>\n",
       "      <td>-0.753751</td>\n",
       "      <td>-0.221016</td>\n",
       "    </tr>\n",
       "    <tr>\n",
       "      <th>147</th>\n",
       "      <td>6.5</td>\n",
       "      <td>3.0</td>\n",
       "      <td>5.2</td>\n",
       "      <td>2.0</td>\n",
       "      <td>7.266711</td>\n",
       "      <td>5.405811</td>\n",
       "      <td>-0.501371</td>\n",
       "      <td>-0.103650</td>\n",
       "    </tr>\n",
       "    <tr>\n",
       "      <th>148</th>\n",
       "      <td>6.2</td>\n",
       "      <td>3.4</td>\n",
       "      <td>5.4</td>\n",
       "      <td>2.3</td>\n",
       "      <td>7.403307</td>\n",
       "      <td>5.443581</td>\n",
       "      <td>0.091399</td>\n",
       "      <td>-0.011244</td>\n",
       "    </tr>\n",
       "    <tr>\n",
       "      <th>149</th>\n",
       "      <td>5.9</td>\n",
       "      <td>3.0</td>\n",
       "      <td>5.1</td>\n",
       "      <td>1.8</td>\n",
       "      <td>6.892554</td>\n",
       "      <td>5.044292</td>\n",
       "      <td>-0.268943</td>\n",
       "      <td>0.188390</td>\n",
       "    </tr>\n",
       "  </tbody>\n",
       "</table>\n",
       "<p>150 rows × 8 columns</p>\n",
       "</div>"
      ],
      "text/plain": [
       "     Sepal.Length  Sepal.Width  Petal.Length  Petal.Width       PC1       PC2  \\\n",
       "0             5.1          3.5           1.4          0.2  2.818240  5.646350   \n",
       "1             4.9          3.0           1.4          0.2  2.788223  5.149951   \n",
       "2             4.7          3.2           1.3          0.2  2.613375  5.182003   \n",
       "3             4.6          3.1           1.5          0.2  2.757022  5.008654   \n",
       "4             5.0          3.6           1.4          0.2  2.773649  5.653707   \n",
       "..            ...          ...           ...          ...       ...       ...   \n",
       "145           6.7          3.0           5.2          2.3  7.446475  5.514485   \n",
       "146           6.3          2.5           5.0          1.9  7.029532  4.951636   \n",
       "147           6.5          3.0           5.2          2.0  7.266711  5.405811   \n",
       "148           6.2          3.4           5.4          2.3  7.403307  5.443581   \n",
       "149           5.9          3.0           5.1          1.8  6.892554  5.044292   \n",
       "\n",
       "          PC3       PC4  \n",
       "0   -0.659768  0.031089  \n",
       "1   -0.842317 -0.065675  \n",
       "2   -0.613952  0.013383  \n",
       "3   -0.600293  0.108928  \n",
       "4   -0.541773  0.094610  \n",
       "..        ...       ...  \n",
       "145 -0.454028 -0.392844  \n",
       "146 -0.753751 -0.221016  \n",
       "147 -0.501371 -0.103650  \n",
       "148  0.091399 -0.011244  \n",
       "149 -0.268943  0.188390  \n",
       "\n",
       "[150 rows x 8 columns]"
      ]
     },
     "execution_count": 16,
     "metadata": {},
     "output_type": "execute_result"
    }
   ],
   "source": [
    "X['PC1'] = X['Sepal.Length']* pca_df['Sepal.Length'][0] + X['Sepal.Width']* pca_df['Sepal.Width'][0]+ X['Petal.Length']* pca_df['Petal.Length'][0]+X['Petal.Width']* pca_df['Petal.Width'][0]\n",
    "X['PC2'] = X['Sepal.Length']* pca_df['Sepal.Length'][1] + X['Sepal.Width']* pca_df['Sepal.Width'][1]+ X['Petal.Length']* pca_df['Petal.Length'][1]+X['Petal.Width']* pca_df['Petal.Width'][1]\n",
    "X['PC3'] = X['Sepal.Length']* pca_df['Sepal.Length'][2] + X['Sepal.Width']* pca_df['Sepal.Width'][2]+ X['Petal.Length']* pca_df['Petal.Length'][2]+X['Petal.Width']* pca_df['Petal.Width'][2]\n",
    "X['PC4'] = X['Sepal.Length']* pca_df['Sepal.Length'][3] + X['Sepal.Width']* pca_df['Sepal.Width'][3]+ X['Petal.Length']* pca_df['Petal.Length'][3]+X['Petal.Width']* pca_df['Petal.Width'][3]\n",
    "X"
   ]
  },
  {
   "cell_type": "markdown",
   "metadata": {},
   "source": [
    "# 4 DBSCAN"
   ]
  },
  {
   "cell_type": "code",
   "execution_count": null,
   "metadata": {},
   "outputs": [],
   "source": []
  },
  {
   "cell_type": "code",
   "execution_count": 13,
   "metadata": {},
   "outputs": [],
   "source": [
    "from sklearn.cluster import DBSCAN\n",
    "from sklearn.datasets import make_moons"
   ]
  },
  {
   "cell_type": "markdown",
   "metadata": {},
   "source": [
    "### Half-moon dataset for DBSCAN clustering test\n",
    "Let's try DBSCAN with relatively difficult clustering problem, called half-moons. The dataset can be created using a built-in function.  This test problem is suitable for algorithms that are capable of learning nonlinear class boundaries.For that the following make_moons() function  will generate a swirl pattern, or two moons. We can control how noisy the moon shapes are and the number of samples to generate."
   ]
  },
  {
   "cell_type": "code",
   "execution_count": 8,
   "metadata": {},
   "outputs": [],
   "source": [
    "X, y = make_moons(n_samples=1000, noise=0.05) "
   ]
  },
  {
   "cell_type": "code",
   "execution_count": 12,
   "metadata": {
    "scrolled": false
   },
   "outputs": [
    {
     "data": {
      "image/png": "[encoded data removed]",
      "text/plain": [
       "<Figure size 432x288 with 1 Axes>"
      ]
     },
     "metadata": {
      "needs_background": "light"
     },
     "output_type": "display_data"
    }
   ],
   "source": [
    "from matplotlib import pyplot\n",
    "from pandas import DataFrame\n",
    "# generate 2d classification dataset\n",
    "X, y = make_moons(n_samples=1000, noise=0.05)\n",
    "# scatter plot, dots colored by class value\n",
    "df = DataFrame(dict(x=X[:,0], y=X[:,1], label=y))\n",
    "colors = {0:'red', 1:'blue'}\n",
    "fig, ax = pyplot.subplots()\n",
    "grouped = df.groupby('label')\n",
    "for key, group in grouped:\n",
    "    group.plot(ax=ax, kind='scatter', x='x', y='y', label=key, color=colors[key])\n",
    "pyplot.show()"
   ]
  },
  {
   "cell_type": "code",
   "execution_count": null,
   "metadata": {},
   "outputs": [],
   "source": [
    "dbscan = DBSCAN(eps=0.05, min_samples=5) "
   ]
  },
  {
   "cell_type": "code",
   "execution_count": 3,
   "metadata": {},
   "outputs": [
    {
     "data": {
      "text/plain": [
       "DBSCAN(eps=0.05)"
      ]
     },
     "execution_count": 3,
     "metadata": {},
     "output_type": "execute_result"
    }
   ],
   "source": [
    "dbscan.fit(X)"
   ]
  },
  {
   "cell_type": "code",
   "execution_count": 4,
   "metadata": {
    "scrolled": true
   },
   "outputs": [
    {
     "data": {
      "text/plain": [
       "array([ 0,  0,  1,  2,  3,  0,  7,  0,  3,  3,  3, -1,  1,  4,  3,  1,  5,\n",
       "        3,  4, -1,  2,  2,  2,  3,  6,  7,  0,  2,  2,  0,  2,  3,  7,  4,\n",
       "        3, -1,  3,  7,  3,  0,  3,  5,  0,  2,  4, -1,  0,  2,  2,  4,  2,\n",
       "        0,  2,  0,  0,  6,  3,  0,  3,  6,  4, -1,  3,  0,  4,  6,  3,  4,\n",
       "       10,  3,  7,  0,  7,  0,  6,  0,  2,  0,  9,  3, -1,  3,  0,  2,  0,\n",
       "        7,  6,  6,  3,  0,  2,  2,  6,  6,  6, -1,  0,  6,  2,  4,  7,  0,\n",
       "        7,  4,  2, -1,  0,  0,  0,  7,  0,  0,  4,  2,  1,  3,  0,  3,  7,\n",
       "        2,  7,  0,  2,  2,  7,  3,  3,  3,  4,  0,  7,  0,  7,  2,  7,  6,\n",
       "       -1,  0,  0,  2,  7,  3, -1,  0,  4,  9,  0,  4,  2,  3,  7,  2,  3,\n",
       "        0,  6,  0,  0,  2,  2,  2,  2, -1,  1,  0,  7, -1,  2,  3,  7,  0,\n",
       "        3,  2,  2,  0,  7,  2,  3, -1,  2,  2,  0,  2,  8,  3,  5,  3,  0,\n",
       "        0,  0,  0,  5,  2,  7,  4,  0, -1,  3, -1,  3,  2,  7, -1,  2, -1,\n",
       "        2, -1,  3,  8,  0,  6,  2,  5,  0,  6,  7, -1,  2,  2,  2,  3,  0,\n",
       "        0,  0,  0,  3,  2,  6,  6,  3,  3,  3,  0,  0,  3,  6,  9,  7,  2,\n",
       "        1, -1,  3,  0,  0,  0,  2,  0,  7,  3,  6,  2,  9,  0,  3,  3,  3,\n",
       "        0,  0, -1,  3,  3,  0,  8,  2,  3,  3,  2,  2,  3,  0,  6,  8,  0,\n",
       "        2,  3,  3,  0,  7,  2, -1,  6,  2,  3,  3,  7,  0, -1,  4,  1,  3,\n",
       "        3,  0,  2,  0,  7,  3,  3,  7,  3,  3,  0,  3,  3,  0,  2, -1,  3,\n",
       "        7, -1,  3,  3,  3,  3,  2,  0,  8,  0,  0,  4, -1,  0,  3,  0,  0,\n",
       "        0,  7,  7,  2,  3,  5,  3,  0,  2,  3,  2,  3,  7,  7,  0,  3,  5,\n",
       "        2,  2,  3,  7,  0,  0,  0,  4,  0,  0,  2,  0,  0,  2,  4,  0,  0,\n",
       "        5,  3,  0,  6,  2,  0,  2,  0,  4,  0, -1,  6,  0, -1, -1, -1,  0,\n",
       "        2,  2,  0,  0,  6,  6,  7,  2,  0,  0,  0,  7,  0,  0,  6,  2, -1,\n",
       "        0,  9,  0,  0,  2,  3,  3,  0,  0,  5,  4,  4,  4,  3,  0,  2,  2,\n",
       "        2,  2,  0,  7,  7,  7, -1,  0,  0,  6, -1,  0,  0,  7,  2,  2,  0,\n",
       "        7,  0,  3,  2,  8,  0,  7,  3,  6,  6,  6,  4,  6,  4,  0, -1, -1,\n",
       "        4, -1,  0,  2,  0,  3,  0,  6,  3,  3,  0,  7,  3,  7,  2,  4,  2,\n",
       "        2,  0,  2,  3,  0,  3,  7,  3,  2,  3,  6,  0,  2,  2,  6,  3,  0,\n",
       "        0,  4,  2,  2,  2,  0,  3,  2,  0,  3,  6,  2,  6,  0,  0,  2,  0,\n",
       "       -1,  2,  2,  0,  4,  2,  3,  3,  2,  0,  3,  3,  0,  0,  3,  7,  6,\n",
       "        7, -1,  4,  6,  0,  2,  8,  4,  7,  0,  0,  0,  2,  3,  4,  7,  0,\n",
       "        2, 10,  2,  4,  7,  3,  6,  0,  2,  5,  3,  0,  6,  0,  0,  2, -1,\n",
       "        0,  0, -1,  0,  6,  2,  2,  4,  7,  2, -1,  6,  4,  7, -1,  6, -1,\n",
       "        0,  4, -1,  3,  0,  3,  2,  3,  0,  4,  0,  4,  3, -1,  2,  7,  3,\n",
       "        7, -1,  3, -1,  3, -1,  4, -1,  0,  5,  7,  0, -1,  3,  2, -1,  2,\n",
       "        3,  2,  2,  2,  7,  4, -1,  3,  2,  0,  2, -1,  7, -1,  4,  0, -1,\n",
       "       -1,  2, -1,  2,  3,  0,  0,  0, -1,  3,  6,  4,  7,  3,  2,  0,  0,\n",
       "        0,  2,  3,  0,  7, -1,  9,  4,  6,  2,  3,  0,  3,  3,  4,  6,  0,\n",
       "        2,  0,  3,  3,  0, -1,  0, -1,  4,  6,  0,  6,  0,  6,  0,  2,  0,\n",
       "        0,  2,  0,  0,  0,  0,  2,  4, -1, -1,  0,  2,  2,  2,  3,  6, -1,\n",
       "        0, -1,  7,  3,  2,  1,  3, -1,  4,  0,  3,  3,  0,  3,  0,  0, -1,\n",
       "        2,  6,  5,  0,  0,  4,  0,  3,  2,  3,  2,  3,  7,  2,  0,  2,  3,\n",
       "        2,  2, -1,  2,  6,  4, 10,  0,  0,  0, -1,  0,  3,  0,  2,  3,  3,\n",
       "        4,  0,  4,  4,  0,  3,  7, -1,  4,  2,  6,  0,  0,  0, -1,  0,  2,\n",
       "        6,  2,  3,  3, -1,  7,  0,  6,  2,  0,  3,  3,  5,  9,  3,  0,  7,\n",
       "       -1,  2,  4,  7,  0,  0,  3,  7,  3,  6,  3,  4,  4,  6,  6, -1,  4,\n",
       "        3,  7,  6,  0,  0,  6,  3,  2,  4,  3,  2,  4,  0,  3,  3,  0,  3,\n",
       "        3,  3,  0,  0,  0,  2,  3,  2,  3,  0,  0,  2,  3,  2,  6, -1,  8,\n",
       "        8,  2,  5,  2, -1,  0,  7,  0,  7,  2,  0,  2,  1,  0,  2,  3,  3,\n",
       "        3,  4,  2,  2,  7,  0,  3,  7,  4,  4,  2,  0,  0,  3, -1,  7,  3,\n",
       "        2,  0,  7,  3,  0,  9,  6,  4,  6,  6,  6,  2,  4, -1,  3,  0,  3,\n",
       "        8,  6,  0,  0, -1,  3, -1,  3,  0,  3,  8,  4,  6,  0,  0,  3,  4,\n",
       "        1,  0, -1,  2,  0,  0,  2,  2,  0,  2,  8,  2,  0,  7,  3,  3,  2,\n",
       "        4,  0,  1,  8,  3,  3,  3,  0,  0, -1,  0,  0,  3,  6,  0,  3,  0,\n",
       "        3,  0,  3,  2, -1,  3, -1,  2,  3,  4,  4,  7,  2,  2,  6,  2,  2,\n",
       "        6, -1,  3,  0,  5,  2,  0,  6,  2,  3,  0,  3,  4,  6,  0,  4,  4,\n",
       "        7,  2,  7,  2,  1,  5,  0, -1,  0,  3,  2,  0,  0,  2,  0,  7,  0,\n",
       "        2,  2,  2,  2,  3,  0,  6,  0,  7,  2,  3,  7,  0,  5,  2,  3,  3,\n",
       "        0,  0,  3,  0,  6,  3, -1, -1,  7, -1,  7,  0, -1,  0])"
      ]
     },
     "execution_count": 4,
     "metadata": {},
     "output_type": "execute_result"
    }
   ],
   "source": [
    "dbscan.labels_"
   ]
  },
  {
   "cell_type": "code",
   "execution_count": 5,
   "metadata": {},
   "outputs": [
    {
     "data": {
      "text/plain": [
       "764"
      ]
     },
     "execution_count": 5,
     "metadata": {},
     "output_type": "execute_result"
    }
   ],
   "source": [
    "len(dbscan.core_sample_indices_)"
   ]
  },
  {
   "cell_type": "code",
   "execution_count": 6,
   "metadata": {},
   "outputs": [
    {
     "data": {
      "text/plain": [
       "array([  0,   1,   2,   3,   4,   5,   7,   9,  13,  14,  15,  16,  17,\n",
       "        18,  20,  23,  24,  25,  26,  27,  28,  30,  31,  34,  37,  39,\n",
       "        42,  43,  44,  46,  48,  49,  50,  52,  53,  54,  55,  56,  58,\n",
       "        59,  60,  62,  63,  64,  66,  67,  69,  70,  71,  73,  74,  75,\n",
       "        76,  77,  79,  81,  82,  83,  85,  86,  88,  89,  90,  91,  92,\n",
       "        93,  94,  96,  98,  99, 100, 101, 102, 103, 104, 106, 107, 108,\n",
       "       109, 111, 112, 115, 116, 117, 118, 120, 121, 122, 123, 125, 126,\n",
       "       127, 128, 129, 130, 131, 132, 133, 135, 139, 140, 141, 143, 144,\n",
       "       146, 147, 148, 149, 150, 151, 152, 153, 155, 156, 158, 159, 160,\n",
       "       162, 163, 164, 166, 167, 168, 169, 170, 171, 173, 174, 175, 178,\n",
       "       179, 180, 181, 182, 183, 184, 185, 187, 189, 191, 192, 193, 198,\n",
       "       199, 200, 202, 204, 206, 207, 208, 210, 211, 212, 213, 214, 219,\n",
       "       220, 221, 222, 223, 224, 225, 226, 227, 228, 229, 230, 231, 232,\n",
       "       233, 234, 235, 237, 240, 241, 242, 243, 245, 246, 248, 249, 250,\n",
       "       252, 253, 255, 256, 258, 259, 260, 261, 262, 263, 264, 265, 266,\n",
       "       267, 269, 270, 271, 272, 274, 275, 276, 277, 280, 281, 282, 284,\n",
       "       287, 288, 289, 290, 292, 293, 294, 295, 296, 297, 299, 300, 301,\n",
       "       302, 303, 305, 306, 309, 310, 311, 313, 314, 315, 317, 319, 320,\n",
       "       321, 322, 323, 326, 328, 329, 330, 331, 332, 333, 334, 335, 336,\n",
       "       337, 340, 341, 342, 343, 344, 345, 346, 348, 349, 350, 351, 352,\n",
       "       353, 354, 355, 356, 358, 359, 360, 361, 362, 363, 364, 365, 366,\n",
       "       368, 369, 373, 374, 375, 376, 377, 378, 379, 380, 381, 382, 383,\n",
       "       385, 386, 387, 389, 391, 392, 393, 399, 401, 402, 403, 404, 405,\n",
       "       406, 407, 408, 409, 411, 412, 413, 415, 416, 417, 419, 420, 421,\n",
       "       422, 423, 424, 427, 428, 429, 431, 432, 433, 434, 435, 437, 438,\n",
       "       439, 444, 445, 446, 447, 448, 449, 450, 451, 452, 453, 454, 455,\n",
       "       456, 457, 458, 460, 462, 463, 464, 465, 466, 467, 468, 469, 470,\n",
       "       471, 472, 474, 476, 477, 478, 479, 480, 481, 482, 483, 485, 486,\n",
       "       487, 488, 489, 490, 491, 492, 494, 495, 496, 497, 498, 499, 500,\n",
       "       501, 502, 503, 504, 505, 506, 507, 508, 509, 510, 512, 514, 515,\n",
       "       516, 517, 518, 519, 520, 521, 522, 525, 526, 529, 530, 531, 532,\n",
       "       533, 534, 535, 537, 538, 539, 540, 541, 542, 544, 545, 547, 548,\n",
       "       550, 551, 552, 553, 555, 556, 557, 559, 561, 562, 564, 565, 566,\n",
       "       567, 568, 569, 570, 571, 572, 573, 575, 576, 578, 580, 582, 584,\n",
       "       586, 587, 588, 589, 591, 592, 595, 596, 597, 599, 600, 602, 603,\n",
       "       605, 607, 609, 610, 613, 615, 616, 617, 618, 619, 621, 622, 623,\n",
       "       624, 625, 627, 628, 629, 630, 631, 633, 635, 636, 637, 638, 640,\n",
       "       641, 642, 643, 644, 645, 646, 647, 648, 649, 655, 656, 657, 658,\n",
       "       659, 660, 661, 662, 663, 665, 667, 669, 670, 673, 674, 675, 676,\n",
       "       677, 678, 680, 682, 683, 684, 686, 688, 689, 690, 691, 692, 693,\n",
       "       694, 695, 697, 698, 700, 701, 702, 703, 704, 707, 709, 710, 711,\n",
       "       712, 713, 715, 717, 718, 720, 722, 723, 726, 727, 728, 729, 730,\n",
       "       731, 732, 733, 734, 735, 736, 737, 739, 740, 741, 742, 744, 746,\n",
       "       747, 749, 750, 751, 754, 755, 756, 758, 759, 760, 761, 762, 763,\n",
       "       764, 766, 767, 768, 769, 770, 771, 774, 775, 776, 777, 778, 781,\n",
       "       783, 785, 786, 788, 789, 790, 791, 792, 793, 794, 796, 797, 798,\n",
       "       800, 801, 802, 803, 804, 805, 806, 808, 809, 811, 812, 815, 816,\n",
       "       817, 819, 821, 822, 823, 824, 825, 826, 827, 830, 831, 832, 833,\n",
       "       834, 835, 836, 838, 839, 840, 841, 842, 843, 844, 845, 846, 848,\n",
       "       850, 851, 852, 853, 854, 856, 857, 858, 859, 860, 861, 864, 865,\n",
       "       866, 867, 868, 869, 870, 872, 874, 875, 876, 877, 878, 879, 880,\n",
       "       881, 882, 883, 884, 885, 887, 888, 889, 890, 891, 892, 893, 894,\n",
       "       895, 897, 898, 899, 900, 901, 903, 904, 905, 906, 907, 908, 909,\n",
       "       911, 912, 913, 914, 915, 916, 917, 918, 919, 920, 921, 923, 926,\n",
       "       927, 928, 929, 930, 931, 932, 933, 934, 935, 938, 939, 940, 941,\n",
       "       942, 945, 946, 947, 948, 949, 950, 951, 952, 953, 954, 955, 956,\n",
       "       957, 958, 960, 961, 962, 963, 964, 965, 966, 967, 969, 970, 971,\n",
       "       972, 973, 974, 975, 976, 977, 978, 979, 980, 981, 982, 983, 984,\n",
       "       985, 986, 987, 988, 990, 991, 994, 996, 997, 999])"
      ]
     },
     "execution_count": 6,
     "metadata": {},
     "output_type": "execute_result"
    }
   ],
   "source": [
    "dbscan.core_sample_indices_"
   ]
  },
  {
   "cell_type": "code",
   "execution_count": 7,
   "metadata": {},
   "outputs": [
    {
     "data": {
      "text/plain": [
       "array([[-0.78879735,  0.49231539],\n",
       "       [-0.27981965,  0.92561454],\n",
       "       [ 1.93257664,  0.36025305],\n",
       "       ...,\n",
       "       [ 0.19437725, -0.15891141],\n",
       "       [-1.078921  ,  0.0635027 ],\n",
       "       [-0.91680242,  0.43074254]])"
      ]
     },
     "execution_count": 7,
     "metadata": {},
     "output_type": "execute_result"
    }
   ],
   "source": [
    "dbscan.components_"
   ]
  },
  {
   "cell_type": "markdown",
   "metadata": {},
   "source": [
    "# 5 FPGrowth"
   ]
  },
  {
   "cell_type": "markdown",
   "metadata": {},
   "source": [
    "Association rules can be generated by FP growth algorithm as follows. "
   ]
  },
  {
   "cell_type": "markdown",
   "metadata": {},
   "source": [
    "If pyfpgrowth is not installed then start with installing it first."
   ]
  },
  {
   "cell_type": "code",
   "execution_count": 17,
   "metadata": {},
   "outputs": [
    {
     "name": "stdout",
     "output_type": "stream",
     "text": [
      "Collecting pyfpgrowth\n",
      "  Downloading pyfpgrowth-1.0.tar.gz (1.6 MB)\n",
      "\u001b[K     |████████████████████████████████| 1.6 MB 2.0 MB/s eta 0:00:01\n",
      "\u001b[?25hBuilding wheels for collected packages: pyfpgrowth\n",
      "  Building wheel for pyfpgrowth (setup.py) ... \u001b[?25ldone\n",
      "\u001b[?25h  Created wheel for pyfpgrowth: filename=pyfpgrowth-1.0-py2.py3-none-any.whl size=5479 sha256=58c024346b549aee0838f71b566801781597e69ded33b01a9868bd99c2fcc5e2\n",
      "  Stored in directory: /home/iahmad/.cache/pip/wheels/73/97/4b/f12ac994f6bbb99597396255435824c73ad3916be1e678be55\n",
      "Successfully built pyfpgrowth\n",
      "Installing collected packages: pyfpgrowth\n",
      "Successfully installed pyfpgrowth-1.0\n"
     ]
    }
   ],
   "source": [
    "!pip install pyfpgrowth"
   ]
  },
  {
   "cell_type": "code",
   "execution_count": 18,
   "metadata": {},
   "outputs": [],
   "source": [
    "import pandas as pd\n",
    "import numpy as np\n",
    "import pyfpgrowth as fp"
   ]
  },
  {
   "cell_type": "markdown",
   "metadata": {},
   "source": [
    "## STEP 2: Create Transaction Dataset\n",
    "Create Transaction Dataset"
   ]
  },
  {
   "cell_type": "code",
   "execution_count": 19,
   "metadata": {},
   "outputs": [
    {
     "data": {
      "text/html": [
       "<div>\n",
       "<style scoped>\n",
       "    .dataframe tbody tr th:only-of-type {\n",
       "        vertical-align: middle;\n",
       "    }\n",
       "\n",
       "    .dataframe tbody tr th {\n",
       "        vertical-align: top;\n",
       "    }\n",
       "\n",
       "    .dataframe thead th {\n",
       "        text-align: right;\n",
       "    }\n",
       "</style>\n",
       "<table border=\"1\" class=\"dataframe\">\n",
       "  <thead>\n",
       "    <tr style=\"text-align: right;\">\n",
       "      <th></th>\n",
       "      <th>id</th>\n",
       "      <th>items</th>\n",
       "    </tr>\n",
       "  </thead>\n",
       "  <tbody>\n",
       "    <tr>\n",
       "      <th>0</th>\n",
       "      <td>0</td>\n",
       "      <td>[wickets, pads]</td>\n",
       "    </tr>\n",
       "    <tr>\n",
       "      <th>1</th>\n",
       "      <td>1</td>\n",
       "      <td>[bat, wickets, pads, helmet]</td>\n",
       "    </tr>\n",
       "    <tr>\n",
       "      <th>2</th>\n",
       "      <td>2</td>\n",
       "      <td>[helmet, pad]</td>\n",
       "    </tr>\n",
       "    <tr>\n",
       "      <th>3</th>\n",
       "      <td>3</td>\n",
       "      <td>[bat, pads, helmet]</td>\n",
       "    </tr>\n",
       "  </tbody>\n",
       "</table>\n",
       "</div>"
      ],
      "text/plain": [
       "   id                         items\n",
       "0   0               [wickets, pads]\n",
       "1   1  [bat, wickets, pads, helmet]\n",
       "2   2                 [helmet, pad]\n",
       "3   3           [bat, pads, helmet]"
      ]
     },
     "execution_count": 19,
     "metadata": {},
     "output_type": "execute_result"
    }
   ],
   "source": [
    "dict1 = {\n",
    "    'id':[0,1,2,3],\n",
    "    'items':[[\"wickets\",\"pads\"],\n",
    "    [\"bat\",\"wickets\",\"pads\",\"helmet\"],\n",
    "    [\"helmet\",\"pad\"],\n",
    "    [\"bat\",\"pads\",\"helmet\"]]\n",
    "    \n",
    "}\n",
    "transactionSet = pd.DataFrame(dict1)\n",
    "transactionSet"
   ]
  },
  {
   "cell_type": "markdown",
   "metadata": {},
   "source": [
    "## STEP 4: Generating the frequent patterns and the rules\n",
    "Patterns are generated based on the parameters passed in the find_frequent_patterns() , where “transactions” are the list of items bought at each transaction(refer to the ITEMS column of the table) and 10 is the minimum threshold set for support count."
   ]
  },
  {
   "cell_type": "code",
   "execution_count": 20,
   "metadata": {},
   "outputs": [],
   "source": [
    "patterns = fp.find_frequent_patterns(transactionSet['items'],1)"
   ]
  },
  {
   "cell_type": "code",
   "execution_count": 21,
   "metadata": {},
   "outputs": [
    {
     "data": {
      "text/plain": [
       "{('pad',): 1,\n",
       " ('helmet', 'pad'): 1,\n",
       " ('wickets',): 2,\n",
       " ('pads', 'wickets'): 2,\n",
       " ('bat', 'wickets'): 1,\n",
       " ('helmet', 'wickets'): 1,\n",
       " ('bat', 'pads', 'wickets'): 1,\n",
       " ('helmet', 'pads', 'wickets'): 1,\n",
       " ('bat', 'helmet', 'wickets'): 1,\n",
       " ('bat', 'helmet', 'pads', 'wickets'): 1,\n",
       " ('bat',): 2,\n",
       " ('bat', 'helmet'): 2,\n",
       " ('bat', 'pads'): 2,\n",
       " ('bat', 'helmet', 'pads'): 2,\n",
       " ('pads',): 3,\n",
       " ('helmet',): 3,\n",
       " ('helmet', 'pads'): 2}"
      ]
     },
     "execution_count": 21,
     "metadata": {},
     "output_type": "execute_result"
    }
   ],
   "source": [
    "patterns"
   ]
  },
  {
   "cell_type": "markdown",
   "metadata": {},
   "source": [
    "Patterns are generated based on the parameters passed in the find_frequent_patterns() , where “transactions” are the list of items bought at each transaction(refer to the ITEMS column of the table) and 10 is the minimum threshold set for support count.\n",
    "\n",
    "rules = fp.generate_association_rules(patterns,0.8)"
   ]
  },
  {
   "cell_type": "markdown",
   "metadata": {},
   "source": [
    "rules = fp.generate_association_rules(patterns,0.3)\n",
    "rules"
   ]
  },
  {
   "cell_type": "code",
   "execution_count": 22,
   "metadata": {},
   "outputs": [
    {
     "data": {
      "text/plain": [
       "{('helmet',): (('pads',), 0.6666666666666666),\n",
       " ('pad',): (('helmet',), 1.0),\n",
       " ('pads',): (('helmet',), 0.6666666666666666),\n",
       " ('wickets',): (('bat', 'helmet', 'pads'), 0.5),\n",
       " ('bat',): (('helmet', 'pads'), 1.0),\n",
       " ('bat', 'pads'): (('helmet',), 1.0),\n",
       " ('bat', 'wickets'): (('helmet', 'pads'), 1.0),\n",
       " ('pads', 'wickets'): (('bat', 'helmet'), 0.5),\n",
       " ('helmet', 'pads'): (('bat',), 1.0),\n",
       " ('helmet', 'wickets'): (('bat', 'pads'), 1.0),\n",
       " ('bat', 'helmet'): (('pads',), 1.0),\n",
       " ('bat', 'helmet', 'pads'): (('wickets',), 0.5),\n",
       " ('bat', 'helmet', 'wickets'): (('pads',), 1.0),\n",
       " ('bat', 'pads', 'wickets'): (('helmet',), 1.0),\n",
       " ('helmet', 'pads', 'wickets'): (('bat',), 1.0)}"
      ]
     },
     "execution_count": 22,
     "metadata": {},
     "output_type": "execute_result"
    }
   ],
   "source": [
    "rules = fp.generate_association_rules(patterns,0.3)\n",
    "rules"
   ]
  }
 ],
 "metadata": {
  "kernelspec": {
   "display_name": "Python 3",
   "language": "python",
   "name": "python3"
  },
  "language_info": {
   "codemirror_mode": {
    "name": "ipython",
    "version": 3
   },
   "file_extension": ".py",
   "mimetype": "text/x-python",
   "name": "python",
   "nbconvert_exporter": "python",
   "pygments_lexer": "ipython3",
   "version": "3.8.5"
  }
 },
 "nbformat": 4,
 "nbformat_minor": 2
}
