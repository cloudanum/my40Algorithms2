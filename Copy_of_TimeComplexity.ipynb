{
  "nbformat": 4,
  "nbformat_minor": 0,
  "metadata": {
    "kernelspec": {
      "display_name": "Python 3",
      "language": "python",
      "name": "python3"
    },
    "language_info": {
      "codemirror_mode": {
        "name": "ipython",
        "version": 3
      },
      "file_extension": ".py",
      "mimetype": "text/x-python",
      "name": "python",
      "nbconvert_exporter": "python",
      "pygments_lexer": "ipython3",
      "version": "3.8.5"
    },
    "colab": {
      "name": "Copy of TimeComplexity.ipynb",
      "provenance": [],
      "collapsed_sections": [],
      "include_colab_link": true
    },
    "accelerator": "GPU"
  },
  "cells": [
    {
      "cell_type": "markdown",
      "metadata": {
        "id": "view-in-github",
        "colab_type": "text"
      },
      "source": [
        "<a href=\"https://colab.research.google.com/github/cloudanum/my40Algorithms2/blob/main/Copy_of_TimeComplexity.ipynb\" target=\"_parent\"><img src=\"https://colab.research.google.com/assets/colab-badge.svg\" alt=\"Open In Colab\"/></a>"
      ]
    },
    {
      "cell_type": "markdown",
      "metadata": {
        "id": "ZxD1OTXHujbQ"
      },
      "source": [
        "## Constant Time Complexity O(1)\n",
        "\n",
        "*   List item\n",
        "*   List item\n",
        "\n"
      ]
    },
    {
      "cell_type": "code",
      "metadata": {
        "colab": {
          "base_uri": "https://localhost:8080/"
        },
        "id": "vKTRXwu_KlrH",
        "outputId": "7a5286b9-b4e5-4d33-b0be-92d2f51e806b"
      },
      "source": [
        "!pip install pycodestyle\n",
        "!pip install --index-url https://test.pypi.org/simple/ nbpep8\n"
      ],
      "execution_count": 5,
      "outputs": [
        {
          "output_type": "stream",
          "name": "stdout",
          "text": [
            "Collecting pycodestyle\n",
            "  Downloading pycodestyle-2.8.0-py2.py3-none-any.whl (42 kB)\n",
            "\u001b[?25l\r\u001b[K     |███████▉                        | 10 kB 38.6 MB/s eta 0:00:01\r\u001b[K     |███████████████▋                | 20 kB 41.6 MB/s eta 0:00:01\r\u001b[K     |███████████████████████▍        | 30 kB 35.4 MB/s eta 0:00:01\r\u001b[K     |███████████████████████████████▏| 40 kB 22.9 MB/s eta 0:00:01\r\u001b[K     |████████████████████████████████| 42 kB 379 kB/s \n",
            "\u001b[?25hInstalling collected packages: pycodestyle\n",
            "Successfully installed pycodestyle-2.8.0\n",
            "Looking in indexes: https://test.pypi.org/simple/\n",
            "Collecting nbpep8\n",
            "  Downloading https://test-files.pythonhosted.org/packages/c1/07/6b91c986efe7c3adac9e2ec061037f0cc4307925819d37277c3802c2d117/nbpep8-0.0.15-py3-none-any.whl (3.2 kB)\n",
            "Installing collected packages: nbpep8\n",
            "Successfully installed nbpep8-0.0.15\n"
          ]
        }
      ]
    },
    {
      "cell_type": "code",
      "metadata": {
        "tags": [],
        "id": "WBS6g8dmujbR"
      },
      "source": [
        "def getFirst(myList):\n",
        "    return myList[0]"
      ],
      "execution_count": 1,
      "outputs": []
    },
    {
      "cell_type": "markdown",
      "metadata": {
        "id": "lnjj8AgfujbS"
      },
      "source": [
        "#### Using getFirst"
      ]
    },
    {
      "cell_type": "code",
      "metadata": {
        "id": "DPpZEmrmujbS",
        "colab": {
          "base_uri": "https://localhost:8080/"
        },
        "outputId": "8f6b1dd9-5038-4c15-9e17-e5de09deb9c1"
      },
      "source": [
        "getFirst([1,2,3])"
      ],
      "execution_count": 2,
      "outputs": [
        {
          "output_type": "execute_result",
          "data": {
            "text/plain": [
              "1"
            ]
          },
          "metadata": {},
          "execution_count": 2
        }
      ]
    },
    {
      "cell_type": "code",
      "metadata": {
        "id": "rdnUkcVtujbT",
        "colab": {
          "base_uri": "https://localhost:8080/"
        },
        "outputId": "6fb6a5a2-6ba1-4c9d-94a9-789a7597c733"
      },
      "source": [
        "getFirst([1,2,3,4,5,6,7,8,9,10])"
      ],
      "execution_count": 3,
      "outputs": [
        {
          "output_type": "execute_result",
          "data": {
            "text/plain": [
              "1"
            ]
          },
          "metadata": {},
          "execution_count": 3
        }
      ]
    },
    {
      "cell_type": "markdown",
      "metadata": {
        "id": "oHKWkGaGujbU"
      },
      "source": [
        "## Linear Time Complexity O(n)"
      ]
    },
    {
      "cell_type": "markdown",
      "metadata": {
        "id": "WDxBPkxLujbU"
      },
      "source": [
        "### Simple Function that sums up a list"
      ]
    },
    {
      "cell_type": "code",
      "metadata": {
        "tags": [],
        "id": "cL9tyMwRujbU"
      },
      "source": [
        "def getSum(myList):\n",
        "    sum = 0\n",
        "    for item in myList:\n",
        "        sum = sum + item\n",
        "    return sum\n"
      ],
      "execution_count": null,
      "outputs": []
    },
    {
      "cell_type": "markdown",
      "metadata": {
        "id": "TDSJWYQAujbV"
      },
      "source": [
        "#### Using getSum"
      ]
    },
    {
      "cell_type": "code",
      "metadata": {
        "id": "ZKE9q1tfujbV",
        "outputId": "cfc484cf-6113-4482-8c56-1d6a7e40aeff"
      },
      "source": [
        "getSum([1,2,3])"
      ],
      "execution_count": null,
      "outputs": [
        {
          "data": {
            "text/plain": [
              "6"
            ]
          },
          "execution_count": 5,
          "metadata": {},
          "output_type": "execute_result"
        }
      ]
    },
    {
      "cell_type": "code",
      "metadata": {
        "id": "qMD_1ejBujbV",
        "outputId": "9d5fa0e2-f99c-4f54-fd8a-f77d41cbe8e9"
      },
      "source": [
        "getSum([1,2,3,4])"
      ],
      "execution_count": null,
      "outputs": [
        {
          "data": {
            "text/plain": [
              "10"
            ]
          },
          "execution_count": 6,
          "metadata": {},
          "output_type": "execute_result"
        }
      ]
    },
    {
      "cell_type": "markdown",
      "metadata": {
        "id": "x817VphHujbV"
      },
      "source": [
        "## Quadratic Time Complexity O(n^2)"
      ]
    },
    {
      "cell_type": "markdown",
      "metadata": {
        "id": "EXN0OdM7ujbV"
      },
      "source": [
        "### Adding numbers in a 2 dimensional List"
      ]
    },
    {
      "cell_type": "code",
      "metadata": {
        "tags": [],
        "id": "zUIZnpfRujbW"
      },
      "source": [
        "def getSum(myList):\n",
        "    sum = 0\n",
        "    for row in myList:\n",
        "        for item in row:\n",
        "            sum += item\n",
        "    return sum"
      ],
      "execution_count": null,
      "outputs": []
    },
    {
      "cell_type": "markdown",
      "metadata": {
        "id": "-aA0kWRVujbW"
      },
      "source": [
        "#### Using getSum"
      ]
    },
    {
      "cell_type": "code",
      "metadata": {
        "id": "jQmhrBSvujbW",
        "outputId": "5e018a3b-19f4-44ff-be57-ef763fe85a44"
      },
      "source": [
        "getSum([[1,2],[3,4]])"
      ],
      "execution_count": null,
      "outputs": [
        {
          "data": {
            "text/plain": [
              "10"
            ]
          },
          "execution_count": 8,
          "metadata": {},
          "output_type": "execute_result"
        }
      ]
    },
    {
      "cell_type": "code",
      "metadata": {
        "id": "PbaFKa6xujbX",
        "outputId": "6f5e92fd-9d3f-452f-e2b1-b0680404bdd4"
      },
      "source": [
        "getSum([[1,2,3],[4,5,6]])"
      ],
      "execution_count": null,
      "outputs": [
        {
          "data": {
            "text/plain": [
              "21"
            ]
          },
          "execution_count": 9,
          "metadata": {},
          "output_type": "execute_result"
        }
      ]
    },
    {
      "cell_type": "code",
      "metadata": {
        "collapsed": true,
        "jupyter": {
          "outputs_hidden": true
        },
        "id": "zC09Dvq_ujbX"
      },
      "source": [
        ""
      ],
      "execution_count": null,
      "outputs": []
    },
    {
      "cell_type": "markdown",
      "metadata": {
        "id": "egN1-bwbujbX"
      },
      "source": [
        "## Quadratic Time Complexity O(n^2)"
      ]
    },
    {
      "cell_type": "markdown",
      "metadata": {
        "id": "6h6k7flrujbX"
      },
      "source": [
        "### Binary Search"
      ]
    },
    {
      "cell_type": "code",
      "metadata": {
        "tags": [],
        "id": "VgIIaYkWujbY"
      },
      "source": [
        "def searchBinary(myList,item):\n",
        "    first = 0\n",
        "    last = len(myList)-1\n",
        "    foundFlag = False\n",
        "    while( first<=last and not foundFlag):\n",
        "        mid = (first + last)//2\n",
        "        if myList[mid] == item :\n",
        "            foundFlag = True\n",
        "        else:\n",
        "            if item < myList[mid]:\n",
        "                last = mid - 1\n",
        "            else:\n",
        "                first = mid + 1\n",
        "    return foundFlag"
      ],
      "execution_count": null,
      "outputs": []
    },
    {
      "cell_type": "markdown",
      "metadata": {
        "id": "hh1y2xArujbY"
      },
      "source": [
        "#### Using Binary Search\n"
      ]
    },
    {
      "cell_type": "code",
      "metadata": {
        "id": "oPcj6EslujbY",
        "outputId": "aec185ab-2b48-426e-a47d-0945746c6c83"
      },
      "source": [
        "searchBinary([8,9,10,100,1000,2000,3000], 10)\n"
      ],
      "execution_count": null,
      "outputs": [
        {
          "data": {
            "text/plain": [
              "True"
            ]
          },
          "execution_count": 11,
          "metadata": {},
          "output_type": "execute_result"
        }
      ]
    },
    {
      "cell_type": "code",
      "metadata": {
        "id": "at-FDgV2ujbY",
        "outputId": "dab14ea6-bf1d-46c6-af8c-fb2365418097"
      },
      "source": [
        "searchBinary([8,9,10,100,1000,2000,3000], 5)"
      ],
      "execution_count": null,
      "outputs": [
        {
          "data": {
            "text/plain": [
              "False"
            ]
          },
          "execution_count": 12,
          "metadata": {},
          "output_type": "execute_result"
        }
      ]
    },
    {
      "cell_type": "code",
      "metadata": {
        "collapsed": true,
        "jupyter": {
          "outputs_hidden": true
        },
        "id": "_yP_P8y5ujbZ"
      },
      "source": [
        ""
      ],
      "execution_count": null,
      "outputs": []
    }
  ]
}