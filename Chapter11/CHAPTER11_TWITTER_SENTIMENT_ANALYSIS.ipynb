{
 "cells": [
  {
   "cell_type": "markdown",
   "metadata": {
    "collapsed": true
   },
   "source": [
    "# Sentiment Analysis:\n",
    "This is a sentiment analysis on social media for 100 tweets on news medial selected:\n",
    "BBC,CNN,CBS,FoxNew and New York Times.The data collected were analyzed below:"
   ]
  },
  {
   "cell_type": "code",
   "execution_count": 2,
   "metadata": {},
   "outputs": [
    {
     "name": "stdout",
     "output_type": "stream",
     "text": [
      "Collecting vaderSentiment\n",
      "  Downloading vaderSentiment-3.3.1-py2.py3-none-any.whl (125 kB)\n",
      "\u001b[K     |████████████████████████████████| 125 kB 1.6 MB/s eta 0:00:01\n",
      "\u001b[?25hInstalling collected packages: vaderSentiment\n",
      "Successfully installed vaderSentiment-3.3.1\n"
     ]
    }
   ],
   "source": [
    "!pip install vaderSentiment\n",
    "# Import and Initialize Sentiment Analyzer"
   ]
  },
  {
   "cell_type": "markdown",
   "metadata": {},
   "source": [
    "## Import the needed packages"
   ]
  },
  {
   "cell_type": "code",
   "execution_count": 1,
   "metadata": {},
   "outputs": [
    {
     "ename": "ModuleNotFoundError",
     "evalue": "No module named 'vaderSentiment'",
     "output_type": "error",
     "traceback": [
      "\u001b[0;31m---------------------------------------------------------------------------\u001b[0m",
      "\u001b[0;31mModuleNotFoundError\u001b[0m                       Traceback (most recent call last)",
      "\u001b[0;32m<ipython-input-1-5e8d68395915>\u001b[0m in \u001b[0;36m<module>\u001b[0;34m\u001b[0m\n\u001b[1;32m      3\u001b[0m \u001b[0;32mimport\u001b[0m \u001b[0mpandas\u001b[0m \u001b[0;32mas\u001b[0m \u001b[0mpd\u001b[0m\u001b[0;34m\u001b[0m\u001b[0;34m\u001b[0m\u001b[0m\n\u001b[1;32m      4\u001b[0m \u001b[0;32mimport\u001b[0m \u001b[0mmatplotlib\u001b[0m\u001b[0;34m.\u001b[0m\u001b[0mpyplot\u001b[0m \u001b[0;32mas\u001b[0m \u001b[0mplt\u001b[0m\u001b[0;34m\u001b[0m\u001b[0;34m\u001b[0m\u001b[0m\n\u001b[0;32m----> 5\u001b[0;31m \u001b[0;32mfrom\u001b[0m \u001b[0mvaderSentiment\u001b[0m\u001b[0;34m.\u001b[0m\u001b[0mvaderSentiment\u001b[0m \u001b[0;32mimport\u001b[0m \u001b[0mSentimentIntensityAnalyzer\u001b[0m\u001b[0;34m\u001b[0m\u001b[0;34m\u001b[0m\u001b[0m\n\u001b[0m\u001b[1;32m      6\u001b[0m \u001b[0manalyzer\u001b[0m \u001b[0;34m=\u001b[0m \u001b[0mSentimentIntensityAnalyzer\u001b[0m\u001b[0;34m(\u001b[0m\u001b[0;34m)\u001b[0m\u001b[0;34m\u001b[0m\u001b[0;34m\u001b[0m\u001b[0m\n",
      "\u001b[0;31mModuleNotFoundError\u001b[0m: No module named 'vaderSentiment'"
     ]
    }
   ],
   "source": [
    "import tweepy,json,time\n",
    "import numpy as np\n",
    "import pandas as pd\n",
    "import matplotlib.pyplot as plt\n",
    "from vaderSentiment.vaderSentiment import SentimentIntensityAnalyzer\n",
    "analyzer = SentimentIntensityAnalyzer()"
   ]
  },
  {
   "cell_type": "markdown",
   "metadata": {},
   "source": [
    "## Getting the Twitter API Keys"
   ]
  },
  {
   "cell_type": "code",
   "execution_count": null,
   "metadata": {},
   "outputs": [],
   "source": [
    "twitter_access_token = \"966112597975150592-I6l9SD8IOj3OYmQBkOnNeRLr3lyqsrN\"\n",
    "twitter_access_token_secret = \"HR3Eiyfh3kG16zTraLdXCtcNLMhXOdU23UH8cYfNkzRBV\"\n",
    "twitter_consumer_key = \"rjQVbO0NyrvcuJDT91752ex11\"\n",
    "twitter_consumer_secret = \"zufLHHrPOWN1sF8JocuB36wj4yZWscIwUGwQYkh8TYfCG9aRIG\""
   ]
  },
  {
   "cell_type": "markdown",
   "metadata": {},
   "source": [
    "## Let us then configure theTweepy API Authentication"
   ]
  },
  {
   "cell_type": "code",
   "execution_count": 16,
   "metadata": {},
   "outputs": [],
   "source": [
    "auth = tweepy.OAuthHandler(twitter_consumer_key, twitter_consumer_secret)\n",
    "auth.set_access_token(twitter_access_token, twitter_access_token_secret)\n",
    "api = tweepy.API(auth, parser=tweepy.parsers.JSONParser())"
   ]
  },
  {
   "cell_type": "markdown",
   "metadata": {},
   "source": [
    "## Let us now specify the data sources"
   ]
  },
  {
   "cell_type": "code",
   "execution_count": 17,
   "metadata": {},
   "outputs": [],
   "source": [
    "news_sources = (\"@BBC\", \"@ctvnews\", \"@CNN\",\"@FoxNews\", \"@dawn_com\")"
   ]
  },
  {
   "cell_type": "code",
   "execution_count": 18,
   "metadata": {},
   "outputs": [
    {
     "name": "stdout",
     "output_type": "stream",
     "text": [
      "...STARTING..... collecting tweets from sources\n",
      "Start tweets from @BBC\n",
      "Start tweets from @ctvnews\n",
      "Start tweets from @CNN\n",
      "Start tweets from @FoxNews\n",
      "Start tweets from @dawn_com\n",
      "DONE with extracting tweets\n"
     ]
    }
   ],
   "source": [
    "# We start extracting 100 tweets from each of the news sources\n",
    "print(\"...STARTING..... collecting tweets from sources\")\n",
    "\n",
    "# Let us define an array to hold the sentiments\n",
    "array_sentiments = []\n",
    "\n",
    "for user in news_sources:\n",
    "    count_tweet=100  # Setting the twitter count at 100\n",
    "    print(\"Start tweets from %s\"%user)\n",
    "    for x in range(5):     # Extracting 5 pages of tweets\n",
    "        public_tweets=api.user_timeline(user,page=x)\n",
    "        # For each tweet \n",
    "        for tweet in public_tweets:\n",
    "            #Calculating the compound,+ive,-ive and neutral value for each tweet\n",
    "            compound = analyzer.polarity_scores(tweet[\"text\"])[\"compound\"]\n",
    "            pos = analyzer.polarity_scores(tweet[\"text\"])[\"pos\"]\n",
    "            neu = analyzer.polarity_scores(tweet[\"text\"])[\"neu\"]\n",
    "            neg = analyzer.polarity_scores(tweet[\"text\"])[\"neg\"]\n",
    "         \n",
    "            array_sentiments.append({\"Media\":user,\n",
    "                                    \"Tweet Text\":tweet[\"text\"],\n",
    "                                    \"Compound\":compound,\n",
    "                                    \"Positive\":pos,\n",
    "                                    \"Negative\":neg,\n",
    "                                    \"Neutral\":neu,\n",
    "                                    \"Date\":tweet[\"created_at\"],\n",
    "                                    \"Tweets Ago\":count_tweet})\n",
    "            \n",
    "            count_tweet-=1\n",
    "\n",
    "print(\"DONE with extracting tweets\")"
   ]
  },
  {
   "cell_type": "markdown",
   "metadata": {},
   "source": [
    "## Process the data and store it."
   ]
  },
  {
   "cell_type": "code",
   "execution_count": 19,
   "metadata": {},
   "outputs": [
    {
     "data": {
      "text/html": [
       "<div>\n",
       "<style scoped>\n",
       "    .dataframe tbody tr th:only-of-type {\n",
       "        vertical-align: middle;\n",
       "    }\n",
       "\n",
       "    .dataframe tbody tr th {\n",
       "        vertical-align: top;\n",
       "    }\n",
       "\n",
       "    .dataframe thead th {\n",
       "        text-align: right;\n",
       "    }\n",
       "</style>\n",
       "<table border=\"1\" class=\"dataframe\">\n",
       "  <thead>\n",
       "    <tr style=\"text-align: right;\">\n",
       "      <th></th>\n",
       "      <th>Media</th>\n",
       "      <th>Date</th>\n",
       "      <th>Tweet Text</th>\n",
       "      <th>Compound</th>\n",
       "      <th>Positive</th>\n",
       "      <th>Negative</th>\n",
       "      <th>Neutral</th>\n",
       "      <th>Tweets Ago</th>\n",
       "    </tr>\n",
       "  </thead>\n",
       "  <tbody>\n",
       "    <tr>\n",
       "      <th>0</th>\n",
       "      <td>BBC</td>\n",
       "      <td>Mon May 11 19:30:01 +0000 2020</td>\n",
       "      <td>As the nation was celebrating #VEDay, the Duke...</td>\n",
       "      <td>0.8625</td>\n",
       "      <td>0.336</td>\n",
       "      <td>0.000</td>\n",
       "      <td>0.664</td>\n",
       "      <td>100</td>\n",
       "    </tr>\n",
       "    <tr>\n",
       "      <th>1</th>\n",
       "      <td>BBC</td>\n",
       "      <td>Mon May 11 18:01:00 +0000 2020</td>\n",
       "      <td>This week's #Hospital: Coronavirus Specials we...</td>\n",
       "      <td>0.0000</td>\n",
       "      <td>0.000</td>\n",
       "      <td>0.000</td>\n",
       "      <td>1.000</td>\n",
       "      <td>99</td>\n",
       "    </tr>\n",
       "    <tr>\n",
       "      <th>2</th>\n",
       "      <td>BBC</td>\n",
       "      <td>Mon May 11 16:01:00 +0000 2020</td>\n",
       "      <td>This Dutch care home has found a way to bring ...</td>\n",
       "      <td>0.4939</td>\n",
       "      <td>0.138</td>\n",
       "      <td>0.000</td>\n",
       "      <td>0.862</td>\n",
       "      <td>98</td>\n",
       "    </tr>\n",
       "    <tr>\n",
       "      <th>3</th>\n",
       "      <td>BBC</td>\n",
       "      <td>Mon May 11 14:25:30 +0000 2020</td>\n",
       "      <td>RT @BBCTheOneShow: Have you heard the news?📢\\n...</td>\n",
       "      <td>0.0000</td>\n",
       "      <td>0.000</td>\n",
       "      <td>0.000</td>\n",
       "      <td>1.000</td>\n",
       "      <td>97</td>\n",
       "    </tr>\n",
       "    <tr>\n",
       "      <th>4</th>\n",
       "      <td>BBC</td>\n",
       "      <td>Mon May 11 12:01:00 +0000 2020</td>\n",
       "      <td>World War Two veteran Alec and wife Gladys got...</td>\n",
       "      <td>-0.6249</td>\n",
       "      <td>0.121</td>\n",
       "      <td>0.256</td>\n",
       "      <td>0.623</td>\n",
       "      <td>96</td>\n",
       "    </tr>\n",
       "    <tr>\n",
       "      <th>5</th>\n",
       "      <td>BBC</td>\n",
       "      <td>Mon May 11 10:01:00 +0000 2020</td>\n",
       "      <td>Brand new #JamieJohnson is streaming now on @b...</td>\n",
       "      <td>0.0000</td>\n",
       "      <td>0.000</td>\n",
       "      <td>0.000</td>\n",
       "      <td>1.000</td>\n",
       "      <td>95</td>\n",
       "    </tr>\n",
       "    <tr>\n",
       "      <th>6</th>\n",
       "      <td>BBC</td>\n",
       "      <td>Mon May 11 09:12:00 +0000 2020</td>\n",
       "      <td>#LifeDrawingLive is back!\\n \\nAll you'll need ...</td>\n",
       "      <td>0.3595</td>\n",
       "      <td>0.116</td>\n",
       "      <td>0.000</td>\n",
       "      <td>0.884</td>\n",
       "      <td>94</td>\n",
       "    </tr>\n",
       "    <tr>\n",
       "      <th>7</th>\n",
       "      <td>BBC</td>\n",
       "      <td>Sun May 10 19:01:00 +0000 2020</td>\n",
       "      <td>#TheRanganation is back for a brand new series...</td>\n",
       "      <td>0.5400</td>\n",
       "      <td>0.155</td>\n",
       "      <td>0.000</td>\n",
       "      <td>0.845</td>\n",
       "      <td>93</td>\n",
       "    </tr>\n",
       "    <tr>\n",
       "      <th>8</th>\n",
       "      <td>BBC</td>\n",
       "      <td>Sun May 10 13:04:09 +0000 2020</td>\n",
       "      <td>#HealthCheckUKLive | Weekdays | 10am | @bbcone...</td>\n",
       "      <td>0.0000</td>\n",
       "      <td>0.000</td>\n",
       "      <td>0.000</td>\n",
       "      <td>1.000</td>\n",
       "      <td>92</td>\n",
       "    </tr>\n",
       "    <tr>\n",
       "      <th>9</th>\n",
       "      <td>BBC</td>\n",
       "      <td>Sun May 10 13:01:00 +0000 2020</td>\n",
       "      <td>Water? 💧Coffee? ☕️Orange juice? 🍊 Milk? 🥛\\n\\nW...</td>\n",
       "      <td>0.8053</td>\n",
       "      <td>0.240</td>\n",
       "      <td>0.000</td>\n",
       "      <td>0.760</td>\n",
       "      <td>91</td>\n",
       "    </tr>\n",
       "  </tbody>\n",
       "</table>\n",
       "</div>"
      ],
      "text/plain": [
       "  Media                            Date  \\\n",
       "0   BBC  Mon May 11 19:30:01 +0000 2020   \n",
       "1   BBC  Mon May 11 18:01:00 +0000 2020   \n",
       "2   BBC  Mon May 11 16:01:00 +0000 2020   \n",
       "3   BBC  Mon May 11 14:25:30 +0000 2020   \n",
       "4   BBC  Mon May 11 12:01:00 +0000 2020   \n",
       "5   BBC  Mon May 11 10:01:00 +0000 2020   \n",
       "6   BBC  Mon May 11 09:12:00 +0000 2020   \n",
       "7   BBC  Sun May 10 19:01:00 +0000 2020   \n",
       "8   BBC  Sun May 10 13:04:09 +0000 2020   \n",
       "9   BBC  Sun May 10 13:01:00 +0000 2020   \n",
       "\n",
       "                                          Tweet Text  Compound  Positive  \\\n",
       "0  As the nation was celebrating #VEDay, the Duke...    0.8625     0.336   \n",
       "1  This week's #Hospital: Coronavirus Specials we...    0.0000     0.000   \n",
       "2  This Dutch care home has found a way to bring ...    0.4939     0.138   \n",
       "3  RT @BBCTheOneShow: Have you heard the news?📢\\n...    0.0000     0.000   \n",
       "4  World War Two veteran Alec and wife Gladys got...   -0.6249     0.121   \n",
       "5  Brand new #JamieJohnson is streaming now on @b...    0.0000     0.000   \n",
       "6  #LifeDrawingLive is back!\\n \\nAll you'll need ...    0.3595     0.116   \n",
       "7  #TheRanganation is back for a brand new series...    0.5400     0.155   \n",
       "8  #HealthCheckUKLive | Weekdays | 10am | @bbcone...    0.0000     0.000   \n",
       "9  Water? 💧Coffee? ☕️Orange juice? 🍊 Milk? 🥛\\n\\nW...    0.8053     0.240   \n",
       "\n",
       "   Negative  Neutral  Tweets Ago  \n",
       "0     0.000    0.664         100  \n",
       "1     0.000    1.000          99  \n",
       "2     0.000    0.862          98  \n",
       "3     0.000    1.000          97  \n",
       "4     0.256    0.623          96  \n",
       "5     0.000    1.000          95  \n",
       "6     0.000    0.884          94  \n",
       "7     0.000    0.845          93  \n",
       "8     0.000    1.000          92  \n",
       "9     0.000    0.760          91  "
      ]
     },
     "execution_count": 19,
     "metadata": {},
     "output_type": "execute_result"
    }
   ],
   "source": [
    "# Creating a dataframe from the Sentiment Array Converting the sentiment arrary to a dataframe\n",
    "sentiments_df=pd.DataFrame.from_dict(array_sentiments)\n",
    "# Removing the '@' from Media column in the data frame\n",
    "sentiments_df['Media'] = sentiments_df['Media'].map(lambda x: x.lstrip('@'))\n",
    "\n",
    "# Re_arranging the order of columns before saving into CSV file\n",
    "sentiments_df=sentiments_df[[\"Media\",\"Date\",\"Tweet Text\",\"Compound\",\"Positive\",\"Negative\",\"Neutral\",\"Tweets Ago\"]]\n",
    "# Storing into a CSV File\\\n",
    "sentiments_df.to_csv(\"mySentimentAnalysis.csv\")\n",
    "\n",
    "sentiments_df.head(10)\n",
    "\n",
    "\n"
   ]
  },
  {
   "cell_type": "code",
   "execution_count": 23,
   "metadata": {},
   "outputs": [],
   "source": [
    "# Creating an array with the unique Media sources in the data frame\n",
    "source=sentiments_df[\"Media\"].unique()"
   ]
  },
  {
   "cell_type": "markdown",
   "metadata": {},
   "source": [
    "## Visualization for media sources"
   ]
  },
  {
   "cell_type": "code",
   "execution_count": 21,
   "metadata": {},
   "outputs": [
    {
     "data": {
      "image/png": "[encoded data removed]",
      "text/plain": [
       "<Figure size 432x288 with 1 Axes>"
      ]
     },
     "metadata": {
      "needs_background": "light"
     },
     "output_type": "display_data"
    }
   ],
   "source": [
    "for media in source:\n",
    "    mydf=sentiments_df[sentiments_df[\"Media\"]==media]\n",
    "    plt.scatter(mydf[\"Tweets Ago\"],mydf[\"Compound\"], marker=\"o\", linewidth=0, alpha=0.8, label=media,\n",
    "                facecolors=mydf.Media.map({\"BBC\": \"pink\", \"ctvnews\" : \"purple\",  \"CNN\": 'red',\n",
    "                                              \"FoxNews\":\"blue\",\"dawn_com\":\"green\"}))\n",
    "\n",
    "plt.legend(bbox_to_anchor = (1,1),title=\"Media Sources\")\n",
    "plt.title(\"Sentiment Analysis of Media Tweets (%s)\" % (time.strftime(\"%x\")), fontsize=14)\n",
    "plt.xlabel(\"Tweets Ago\")\n",
    "plt.ylabel(\"Tweet Polarity\")\n",
    "plt.xlim(101,0)\n",
    "plt.ylim(-1,1)\n",
    "plt.grid(True)\n",
    "plt.savefig(\"Output/Sentiment Analysis of Media Tweets.png\",bbox_inches='tight')\n",
    "plt.show()"
   ]
  },
  {
   "cell_type": "markdown",
   "metadata": {},
   "source": [
    "## Calculating the summary statistics"
   ]
  },
  {
   "cell_type": "code",
   "execution_count": 22,
   "metadata": {},
   "outputs": [
    {
     "data": {
      "text/html": [
       "<div>\n",
       "<style scoped>\n",
       "    .dataframe tbody tr th:only-of-type {\n",
       "        vertical-align: middle;\n",
       "    }\n",
       "\n",
       "    .dataframe tbody tr th {\n",
       "        vertical-align: top;\n",
       "    }\n",
       "\n",
       "    .dataframe thead th {\n",
       "        text-align: right;\n",
       "    }\n",
       "</style>\n",
       "<table border=\"1\" class=\"dataframe\">\n",
       "  <thead>\n",
       "    <tr style=\"text-align: right;\">\n",
       "      <th></th>\n",
       "      <th>Media</th>\n",
       "      <th>Compound</th>\n",
       "    </tr>\n",
       "  </thead>\n",
       "  <tbody>\n",
       "    <tr>\n",
       "      <th>0</th>\n",
       "      <td>BBC</td>\n",
       "      <td>0.234137</td>\n",
       "    </tr>\n",
       "    <tr>\n",
       "      <th>1</th>\n",
       "      <td>CNN</td>\n",
       "      <td>0.057011</td>\n",
       "    </tr>\n",
       "    <tr>\n",
       "      <th>2</th>\n",
       "      <td>FoxNews</td>\n",
       "      <td>0.000000</td>\n",
       "    </tr>\n",
       "    <tr>\n",
       "      <th>3</th>\n",
       "      <td>ctvnews</td>\n",
       "      <td>-0.194618</td>\n",
       "    </tr>\n",
       "    <tr>\n",
       "      <th>4</th>\n",
       "      <td>dawn_com</td>\n",
       "      <td>-0.025389</td>\n",
       "    </tr>\n",
       "  </tbody>\n",
       "</table>\n",
       "</div>"
      ],
      "text/plain": [
       "      Media  Compound\n",
       "0       BBC  0.234137\n",
       "1       CNN  0.057011\n",
       "2   FoxNews  0.000000\n",
       "3   ctvnews -0.194618\n",
       "4  dawn_com -0.025389"
      ]
     },
     "execution_count": 22,
     "metadata": {},
     "output_type": "execute_result"
    }
   ],
   "source": [
    "# Calculating the mean for each Media channel and storing to a dataframe\n",
    "means_media_trends=sentiments_df.groupby(\"Media\").mean()[\"Compound\"].to_frame()\n",
    "#Resetting the index \n",
    "means_media_trends.reset_index(inplace=True)\n",
    "\n",
    "means_media_trends\n"
   ]
  },
  {
   "cell_type": "code",
   "execution_count": null,
   "metadata": {},
   "outputs": [],
   "source": []
  },
  {
   "cell_type": "code",
   "execution_count": null,
   "metadata": {},
   "outputs": [],
   "source": []
  }
 ],
 "metadata": {
  "kernelspec": {
   "display_name": "Python 3",
   "language": "python",
   "name": "python3"
  },
  "language_info": {
   "codemirror_mode": {
    "name": "ipython",
    "version": 3
   },
   "file_extension": ".py",
   "mimetype": "text/x-python",
   "name": "python",
   "nbconvert_exporter": "python",
   "pygments_lexer": "ipython3",
   "version": "3.7.3"
  }
 },
 "nbformat": 4,
 "nbformat_minor": 2
}
