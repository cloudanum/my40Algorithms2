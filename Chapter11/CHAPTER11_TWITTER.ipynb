{
 "cells": [
  {
   "cell_type": "markdown",
   "metadata": {
    "collapsed": true
   },
   "source": [
    "# CHAPTER 11 DATA ALGORITHM\n",
    "\n",
    "Sentiment Analysis:\n",
    "This is a sentiment analysis on social media for 100 tweets on news medial selected:\n",
    "BBC,CNN,CBS,FoxNew and New York Times.The data collected were analyzed below:"
   ]
  },
  {
   "cell_type": "code",
   "execution_count": 86,
   "metadata": {},
   "outputs": [],
   "source": [
    "# Dependencies\n",
    "import tweepy\n",
    "import json\n",
    "import numpy as np\n",
    "import pandas as pd\n",
    "import matplotlib.pyplot as plt\n",
    "import time\n"
   ]
  },
  {
   "cell_type": "code",
   "execution_count": 87,
   "metadata": {},
   "outputs": [],
   "source": [
    "#!pip install vaderSentiment\n",
    "# Import and Initialize Sentiment Analyzer\n",
    "from vaderSentiment.vaderSentiment import SentimentIntensityAnalyzer\n",
    "analyzer = SentimentIntensityAnalyzer()"
   ]
  },
  {
   "cell_type": "code",
   "execution_count": 88,
   "metadata": {},
   "outputs": [],
   "source": [
    "# Twitter API Keys\n",
    "access_token = \"966112597975150592-I6l9SD8IOj3OYmQBkOnNeRLr3lyqsrN\"\n",
    "access_token_secret = \"HR3Eiyfh3kG16zTraLdXCtcNLMhXOdU23UH8cYfNkzRBV\"\n",
    "consumer_key = \"rjQVbO0NyrvcuJDT91752ex11\"\n",
    "consumer_secret = \"zufLHHrPOWN1sF8JocuB36wj4yZWscIwUGwQYkh8TYfCG9aRIG\"\n"
   ]
  },
  {
   "cell_type": "code",
   "execution_count": 89,
   "metadata": {},
   "outputs": [
    {
     "name": "stdout",
     "output_type": "stream",
     "text": [
      "Beginning of extraction of the posted tweets from the media channels\n",
      "Start tweets from @CBS\n",
      "Start tweets from @CTVNews\n",
      "Start tweets from @CNN\n",
      "Start tweets from @FoxNews\n",
      "Start tweets from @nytimes\n",
      "Stop Extraction of Tweets\n"
     ]
    }
   ],
   "source": [
    "# Setup Tweepy API Authentication\n",
    "auth = tweepy.OAuthHandler(consumer_key, consumer_secret)\n",
    "auth.set_access_token(access_token, access_token_secret)\n",
    "api = tweepy.API(auth, parser=tweepy.parsers.JSONParser())\n",
    "\n",
    "# Target Search Term of the various Media channels\n",
    "Media_users = (\"@CBS\", \"@CTVNews\", \"@CNN\",\"@FoxNews\", \"@nytimes\")\n",
    "\n",
    "# Array to hold sentiment\n",
    "Sentiment_array = []\n",
    "\n",
    "# Extracting the first 100 tweets in each Media Channel\n",
    "print(\"Beginning of extraction of the posted tweets from the media channels\")\n",
    "\n",
    "for user in Media_users:\n",
    "    # Setting the tweet count as 100\n",
    "    tweetcount=100\n",
    "    print(\"Start tweets from %s\"%user)\n",
    "    \n",
    "    # Extracting 5 pages of tweets\n",
    "    for x in range(5):\n",
    "        public_tweets=api.user_timeline(user,page=x)\n",
    "        # For each tweet \n",
    "        for tweet in public_tweets:\n",
    "            #Calculating the compound,positive,negative and neutral value for each tweet\n",
    "            compound = analyzer.polarity_scores(tweet[\"text\"])[\"compound\"]\n",
    "            pos = analyzer.polarity_scores(tweet[\"text\"])[\"pos\"]\n",
    "            neu = analyzer.polarity_scores(tweet[\"text\"])[\"neu\"]\n",
    "            neg = analyzer.polarity_scores(tweet[\"text\"])[\"neg\"]\n",
    "            # Store Tweet in Array\n",
    "            Sentiment_array.append({\"Media\":user,\n",
    "                                    \"Tweet Text\":tweet[\"text\"],\n",
    "                                    \"Compound\":compound,\n",
    "                                    \"Positive\":pos,\n",
    "                                    \"Negative\":neg,\n",
    "                                    \"Neutral\":neu,\n",
    "                                    \"Date\":tweet[\"created_at\"],\n",
    "                                    \"Tweets Ago\":tweetcount})\n",
    "            #Decreasing tweet count by 1\n",
    "            tweetcount-=1\n",
    "\n",
    "print(\"Stop Extraction of Tweets\")\n"
   ]
  },
  {
   "cell_type": "code",
   "execution_count": 90,
   "metadata": {},
   "outputs": [
    {
     "data": {
      "text/html": [
       "<div>\n",
       "<style scoped>\n",
       "    .dataframe tbody tr th:only-of-type {\n",
       "        vertical-align: middle;\n",
       "    }\n",
       "\n",
       "    .dataframe tbody tr th {\n",
       "        vertical-align: top;\n",
       "    }\n",
       "\n",
       "    .dataframe thead th {\n",
       "        text-align: right;\n",
       "    }\n",
       "</style>\n",
       "<table border=\"1\" class=\"dataframe\">\n",
       "  <thead>\n",
       "    <tr style=\"text-align: right;\">\n",
       "      <th></th>\n",
       "      <th>Media</th>\n",
       "      <th>Date</th>\n",
       "      <th>Tweet Text</th>\n",
       "      <th>Compound</th>\n",
       "      <th>Positive</th>\n",
       "      <th>Negative</th>\n",
       "      <th>Neutral</th>\n",
       "      <th>Tweets Ago</th>\n",
       "    </tr>\n",
       "  </thead>\n",
       "  <tbody>\n",
       "    <tr>\n",
       "      <th>0</th>\n",
       "      <td>CBS</td>\n",
       "      <td>Tue May 12 00:31:18 +0000 2020</td>\n",
       "      <td>As we continue to experience these unprecedent...</td>\n",
       "      <td>0.0000</td>\n",
       "      <td>0.000</td>\n",
       "      <td>0.0</td>\n",
       "      <td>1.000</td>\n",
       "      <td>100</td>\n",
       "    </tr>\n",
       "    <tr>\n",
       "      <th>1</th>\n",
       "      <td>CBS</td>\n",
       "      <td>Mon May 11 23:00:00 +0000 2020</td>\n",
       "      <td>Good evening. Your mission, should you choose ...</td>\n",
       "      <td>0.6705</td>\n",
       "      <td>0.244</td>\n",
       "      <td>0.0</td>\n",
       "      <td>0.756</td>\n",
       "      <td>99</td>\n",
       "    </tr>\n",
       "    <tr>\n",
       "      <th>2</th>\n",
       "      <td>CBS</td>\n",
       "      <td>Mon May 11 21:15:00 +0000 2020</td>\n",
       "      <td>We see you, America, and you've been making us...</td>\n",
       "      <td>0.8316</td>\n",
       "      <td>0.342</td>\n",
       "      <td>0.0</td>\n",
       "      <td>0.658</td>\n",
       "      <td>98</td>\n",
       "    </tr>\n",
       "    <tr>\n",
       "      <th>3</th>\n",
       "      <td>CBS</td>\n",
       "      <td>Mon May 11 20:25:41 +0000 2020</td>\n",
       "      <td>RT @CBSAllAccess: Escape 🌀 Stream all episodes...</td>\n",
       "      <td>0.1779</td>\n",
       "      <td>0.075</td>\n",
       "      <td>0.0</td>\n",
       "      <td>0.925</td>\n",
       "      <td>97</td>\n",
       "    </tr>\n",
       "    <tr>\n",
       "      <th>4</th>\n",
       "      <td>CBS</td>\n",
       "      <td>Mon May 11 19:58:45 +0000 2020</td>\n",
       "      <td>Here's how the cast of @TheUnicornCBS is stayi...</td>\n",
       "      <td>0.4404</td>\n",
       "      <td>0.132</td>\n",
       "      <td>0.0</td>\n",
       "      <td>0.868</td>\n",
       "      <td>96</td>\n",
       "    </tr>\n",
       "    <tr>\n",
       "      <th>5</th>\n",
       "      <td>CBS</td>\n",
       "      <td>Mon May 11 15:14:08 +0000 2020</td>\n",
       "      <td>From The Ed Sullivan Show to The King of Queen...</td>\n",
       "      <td>0.4019</td>\n",
       "      <td>0.109</td>\n",
       "      <td>0.0</td>\n",
       "      <td>0.891</td>\n",
       "      <td>95</td>\n",
       "    </tr>\n",
       "    <tr>\n",
       "      <th>6</th>\n",
       "      <td>CBS</td>\n",
       "      <td>Mon May 11 14:14:30 +0000 2020</td>\n",
       "      <td>RT @PriceIsRight: .@RuPaul is on the #PriceIsR...</td>\n",
       "      <td>0.8832</td>\n",
       "      <td>0.364</td>\n",
       "      <td>0.0</td>\n",
       "      <td>0.636</td>\n",
       "      <td>94</td>\n",
       "    </tr>\n",
       "    <tr>\n",
       "      <th>7</th>\n",
       "      <td>CBS</td>\n",
       "      <td>Mon May 11 03:00:00 +0000 2020</td>\n",
       "      <td>Thanks for joining us! Tune in on Sunday, May ...</td>\n",
       "      <td>0.4926</td>\n",
       "      <td>0.151</td>\n",
       "      <td>0.0</td>\n",
       "      <td>0.849</td>\n",
       "      <td>93</td>\n",
       "    </tr>\n",
       "    <tr>\n",
       "      <th>8</th>\n",
       "      <td>CBS</td>\n",
       "      <td>Mon May 11 02:42:28 +0000 2020</td>\n",
       "      <td>Oh, hey, @HaleyJoelOsment! We see Gump People....</td>\n",
       "      <td>0.0000</td>\n",
       "      <td>0.000</td>\n",
       "      <td>0.0</td>\n",
       "      <td>1.000</td>\n",
       "      <td>92</td>\n",
       "    </tr>\n",
       "    <tr>\n",
       "      <th>9</th>\n",
       "      <td>CBS</td>\n",
       "      <td>Mon May 11 02:38:59 +0000 2020</td>\n",
       "      <td>Forrest's #QuarantineBeard game is strong. #CB...</td>\n",
       "      <td>0.5106</td>\n",
       "      <td>0.355</td>\n",
       "      <td>0.0</td>\n",
       "      <td>0.645</td>\n",
       "      <td>91</td>\n",
       "    </tr>\n",
       "  </tbody>\n",
       "</table>\n",
       "</div>"
      ],
      "text/plain": [
       "  Media                            Date  \\\n",
       "0   CBS  Tue May 12 00:31:18 +0000 2020   \n",
       "1   CBS  Mon May 11 23:00:00 +0000 2020   \n",
       "2   CBS  Mon May 11 21:15:00 +0000 2020   \n",
       "3   CBS  Mon May 11 20:25:41 +0000 2020   \n",
       "4   CBS  Mon May 11 19:58:45 +0000 2020   \n",
       "5   CBS  Mon May 11 15:14:08 +0000 2020   \n",
       "6   CBS  Mon May 11 14:14:30 +0000 2020   \n",
       "7   CBS  Mon May 11 03:00:00 +0000 2020   \n",
       "8   CBS  Mon May 11 02:42:28 +0000 2020   \n",
       "9   CBS  Mon May 11 02:38:59 +0000 2020   \n",
       "\n",
       "                                          Tweet Text  Compound  Positive  \\\n",
       "0  As we continue to experience these unprecedent...    0.0000     0.000   \n",
       "1  Good evening. Your mission, should you choose ...    0.6705     0.244   \n",
       "2  We see you, America, and you've been making us...    0.8316     0.342   \n",
       "3  RT @CBSAllAccess: Escape 🌀 Stream all episodes...    0.1779     0.075   \n",
       "4  Here's how the cast of @TheUnicornCBS is stayi...    0.4404     0.132   \n",
       "5  From The Ed Sullivan Show to The King of Queen...    0.4019     0.109   \n",
       "6  RT @PriceIsRight: .@RuPaul is on the #PriceIsR...    0.8832     0.364   \n",
       "7  Thanks for joining us! Tune in on Sunday, May ...    0.4926     0.151   \n",
       "8  Oh, hey, @HaleyJoelOsment! We see Gump People....    0.0000     0.000   \n",
       "9  Forrest's #QuarantineBeard game is strong. #CB...    0.5106     0.355   \n",
       "\n",
       "   Negative  Neutral  Tweets Ago  \n",
       "0       0.0    1.000         100  \n",
       "1       0.0    0.756          99  \n",
       "2       0.0    0.658          98  \n",
       "3       0.0    0.925          97  \n",
       "4       0.0    0.868          96  \n",
       "5       0.0    0.891          95  \n",
       "6       0.0    0.636          94  \n",
       "7       0.0    0.849          93  \n",
       "8       0.0    1.000          92  \n",
       "9       0.0    0.645          91  "
      ]
     },
     "execution_count": 90,
     "metadata": {},
     "output_type": "execute_result"
    }
   ],
   "source": [
    "# Creating a dataframe from the Sentiment Array\n",
    "Sentiment_DF=pd.DataFrame.from_dict(Sentiment_array)\n",
    "# Removing the '@' from Media column in the data frame\n",
    "Sentiment_DF['Media'] = Sentiment_DF['Media'].map(lambda x: x.lstrip('@'))\n",
    "\n",
    "# Re_arranging the order of columns before saving into CSV file\n",
    "Sentiment_DF=Sentiment_DF[[\"Media\",\"Date\",\"Tweet Text\",\"Compound\",\"Positive\",\"Negative\",\"Neutral\",\"Tweets Ago\"]]\n",
    "# Storing into a CSV File\\\n",
    "Sentiment_DF.to_csv(\"Output/Media_SentimentAnalysis.csv\")\n",
    "\n",
    "Sentiment_DF.head(10)\n",
    "\n",
    "\n"
   ]
  },
  {
   "cell_type": "code",
   "execution_count": 91,
   "metadata": {},
   "outputs": [
    {
     "data": {
      "text/plain": [
       "array(['CBS', 'CTVNews', 'CNN', 'FoxNews', 'nytimes'], dtype=object)"
      ]
     },
     "execution_count": 91,
     "metadata": {},
     "output_type": "execute_result"
    }
   ],
   "source": [
    "# Creating an array with the unique Media sources in the data frame\n",
    "Media_Source=Sentiment_DF[\"Media\"].unique()\n",
    "Media_Source"
   ]
  },
  {
   "cell_type": "code",
   "execution_count": 92,
   "metadata": {},
   "outputs": [
    {
     "data": {
      "image/png": "[encoded data removed]",
      "text/plain": [
       "<Figure size 432x288 with 1 Axes>"
      ]
     },
     "metadata": {
      "needs_background": "light"
     },
     "output_type": "display_data"
    }
   ],
   "source": [
    "#Plotting the graph for each media source\n",
    "for media in Media_Source:\n",
    "    # Creating a temporary data frame to store for only one media channel at a time\n",
    "    Temp_DF=Sentiment_DF[Sentiment_DF[\"Media\"]==media]\n",
    "    plt.scatter(Temp_DF[\"Tweets Ago\"],Temp_DF[\"Compound\"], marker=\"o\", linewidth=0, alpha=0.8, label=media,\n",
    "                facecolors=Temp_DF.Media.map({\"CBS\": \"pink\", \"CTVNews\" : \"purple\",  \"CNN\": 'red',\n",
    "                                              \"FoxNews\":\"blue\",\"nytimes\":\"yellow\"}))"
   ]
  },
  {
   "cell_type": "code",
   "execution_count": 93,
   "metadata": {},
   "outputs": [
    {
     "name": "stderr",
     "output_type": "stream",
     "text": [
      "WARNING:matplotlib.legend:No handles with labels found to put in legend.\n"
     ]
    },
    {
     "data": {
      "image/png": "[encoded data removed]",
      "text/plain": [
       "<Figure size 432x288 with 1 Axes>"
      ]
     },
     "metadata": {
      "needs_background": "light"
     },
     "output_type": "display_data"
    }
   ],
   "source": [
    "#plt.hlines(0,0,np.arange(len(Sentiment_DF[\"Compound\"])),alpha=1)\n",
    "# Setting the legend \n",
    "plt.legend(bbox_to_anchor = (1,1),title=\"Media Sources\")\n",
    "# Setting the title,x_axis and y_axis labels\n",
    "plt.title(\"Sentiment Analysis of Media Tweets (%s)\" % (time.strftime(\"%x\")), fontsize=14)\n",
    "plt.xlabel(\"Tweets Ago\")\n",
    "plt.ylabel(\"Tweet Polarity\")\n",
    "\n",
    "#Setting the x_axis and y_axis limits\n",
    "plt.xlim(101,0)\n",
    "plt.ylim(-1,1)\n",
    "# Setting the grid\n",
    "plt.grid(True)\n",
    "\n",
    "# Saving the figue\n",
    "plt.savefig(\"Output/Sentiment Analysis of Media Tweets.png\",bbox_inches='tight')\n",
    "\n",
    "plt.show()"
   ]
  },
  {
   "cell_type": "code",
   "execution_count": 94,
   "metadata": {},
   "outputs": [
    {
     "data": {
      "text/html": [
       "<div>\n",
       "<style scoped>\n",
       "    .dataframe tbody tr th:only-of-type {\n",
       "        vertical-align: middle;\n",
       "    }\n",
       "\n",
       "    .dataframe tbody tr th {\n",
       "        vertical-align: top;\n",
       "    }\n",
       "\n",
       "    .dataframe thead th {\n",
       "        text-align: right;\n",
       "    }\n",
       "</style>\n",
       "<table border=\"1\" class=\"dataframe\">\n",
       "  <thead>\n",
       "    <tr style=\"text-align: right;\">\n",
       "      <th></th>\n",
       "      <th>Media</th>\n",
       "      <th>Compound</th>\n",
       "    </tr>\n",
       "  </thead>\n",
       "  <tbody>\n",
       "    <tr>\n",
       "      <th>0</th>\n",
       "      <td>CBS</td>\n",
       "      <td>0.266178</td>\n",
       "    </tr>\n",
       "    <tr>\n",
       "      <th>1</th>\n",
       "      <td>CNN</td>\n",
       "      <td>-0.025485</td>\n",
       "    </tr>\n",
       "    <tr>\n",
       "      <th>2</th>\n",
       "      <td>CTVNews</td>\n",
       "      <td>-0.179904</td>\n",
       "    </tr>\n",
       "    <tr>\n",
       "      <th>3</th>\n",
       "      <td>FoxNews</td>\n",
       "      <td>0.000000</td>\n",
       "    </tr>\n",
       "    <tr>\n",
       "      <th>4</th>\n",
       "      <td>nytimes</td>\n",
       "      <td>-0.020984</td>\n",
       "    </tr>\n",
       "  </tbody>\n",
       "</table>\n",
       "</div>"
      ],
      "text/plain": [
       "     Media  Compound\n",
       "0      CBS  0.266178\n",
       "1      CNN -0.025485\n",
       "2  CTVNews -0.179904\n",
       "3  FoxNews  0.000000\n",
       "4  nytimes -0.020984"
      ]
     },
     "execution_count": 94,
     "metadata": {},
     "output_type": "execute_result"
    }
   ],
   "source": [
    "# Calculating the mean for each Media channel and storing to a dataframe\n",
    "Media_Compound_Means=Sentiment_DF.groupby(\"Media\").mean()[\"Compound\"].to_frame()\n",
    "#Resetting the index \n",
    "Media_Compound_Means.reset_index(inplace=True)\n",
    "\n",
    "Media_Compound_Means\n"
   ]
  },
  {
   "cell_type": "code",
   "execution_count": null,
   "metadata": {},
   "outputs": [],
   "source": []
  },
  {
   "cell_type": "code",
   "execution_count": null,
   "metadata": {},
   "outputs": [],
   "source": []
  }
 ],
 "metadata": {
  "kernelspec": {
   "display_name": "Python 3",
   "language": "python",
   "name": "python3"
  },
  "language_info": {
   "codemirror_mode": {
    "name": "ipython",
    "version": 3
   },
   "file_extension": ".py",
   "mimetype": "text/x-python",
   "name": "python",
   "nbconvert_exporter": "python",
   "pygments_lexer": "ipython3",
   "version": "3.7.3"
  }
 },
 "nbformat": 4,
 "nbformat_minor": 2
}
