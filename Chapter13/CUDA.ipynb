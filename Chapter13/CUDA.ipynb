{
  "nbformat": 4,
  "nbformat_minor": 0,
  "metadata": {
    "colab": {
      "name": "CUDA.ipynb",
      "provenance": [],
      "machine_shape": "hm"
    },
    "kernelspec": {
      "name": "python3",
      "display_name": "Python 3"
    },
    "accelerator": "GPU"
  },
  "cells": [
    {
      "cell_type": "code",
      "metadata": {
        "id": "Pec01KsTE3Jh",
        "colab_type": "code",
        "colab": {}
      },
      "source": [
        "import numpy as np\n",
        "import cupy as cp\n",
        "import time\n"
      ],
      "execution_count": 0,
      "outputs": []
    },
    {
      "cell_type": "code",
      "metadata": {
        "id": "ouM8I6_1FBUi",
        "colab_type": "code",
        "colab": {
          "base_uri": "https://localhost:8080/",
          "height": 52
        },
        "outputId": "7b194e8d-9318-4f3b-a04a-7a0385dbceaa"
      },
      "source": [
        "### Running at CPU using Numpy\n",
        "start_time = time.time()\n",
        "myvar_cpu = np.ones((800,800,800))\n",
        "end_time = time.time()\n",
        "print(end_time - start_time)\n",
        "\n",
        "### Running at GPU using CuPy\n",
        "start_time = time.time()\n",
        "myvar_gpu = cp.ones((800,800,800))\n",
        "cp.cuda.Stream.null.synchronize()\n",
        "end_time = time.time()\n",
        "print(end_time - start_time)"
      ],
      "execution_count": 6,
      "outputs": [
        {
          "output_type": "stream",
          "text": [
            "1.130657434463501\n",
            "0.012250661849975586\n"
          ],
          "name": "stdout"
        }
      ]
    }
  ]
}